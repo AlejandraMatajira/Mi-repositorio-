{
  "cells": [
    {
      "cell_type": "markdown",
      "metadata": {
        "id": "view-in-github",
        "colab_type": "text"
      },
      "source": [
        "<a href=\"https://colab.research.google.com/github/AlejandraMatajira/Mi-repositorio-/blob/main/ind2_alejandramatajira.ipynb\" target=\"_parent\"><img src=\"https://colab.research.google.com/assets/colab-badge.svg\" alt=\"Open In Colab\"/></a>"
      ]
    },
    {
      "cell_type": "markdown",
      "metadata": {
        "id": "u05GTz96_ZsN"
      },
      "source": [
        "# Computación Distribuida NLP\n",
        "Maria Alejandra Matajira    ID:0000261938"
      ]
    },
    {
      "cell_type": "markdown",
      "metadata": {
        "id": "6hABRRhs_ZsP"
      },
      "source": [
        "## Descripción de la Base de Datos\n",
        "\n",
        "Esta base de datos ha sido extraída del **corpus multilingüe de reseñas de Amazon** y contiene los siguientes parámetros:\n",
        "\n",
        "- **`Review_id`**: Identificador único de la reseña.\n",
        "- **`Product_id`**: Identificador único del producto.\n",
        "- **`Reviewer_id`**: Identificador único del usuario que escribió la reseña.\n",
        "- **`Review_body`**: Texto completo de la reseña.\n",
        "- **`Review_title`**: Título de la reseña.\n",
        "- **`Language`**: Idioma en el que está escrita la reseña.\n",
        "- **`Product_category`**: Categoría del producto, como por ejemplo: electrónico, utensilios, etc.\n"
      ]
    },
    {
      "cell_type": "markdown",
      "metadata": {
        "id": "1LABRp0R_ZsP"
      },
      "source": [
        "## Análisis de NLP\n"
      ]
    },
    {
      "cell_type": "code",
      "execution_count": null,
      "metadata": {
        "id": "ndJYP_we_ZsP",
        "outputId": "19051285-f133-4077-9cc2-4c80b45d54c4"
      },
      "outputs": [
        {
          "name": "stderr",
          "output_type": "stream",
          "text": [
            "[nltk_data] Downloading package punkt to\n",
            "[nltk_data]     C:\\Users\\aleja\\AppData\\Roaming\\nltk_data...\n",
            "[nltk_data]   Package punkt is already up-to-date!\n"
          ]
        },
        {
          "data": {
            "text/plain": [
              "True"
            ]
          },
          "execution_count": 106,
          "metadata": {},
          "output_type": "execute_result"
        }
      ],
      "source": [
        "\n",
        "import gzip\n",
        "import json\n",
        "import string\n",
        "import re\n",
        "import numpy as np\n",
        "import matplotlib.pyplot as plt\n",
        "import nltk # imports the natural language toolkit\n",
        "import pandas as pd\n",
        "import plotly\n",
        "from collections import Counter\n",
        "from sklearn.feature_extraction.text import CountVectorizer\n",
        "import json\n",
        "import dask.dataframe as dd\n",
        "from dask.diagnostics import ProgressBar\n",
        "from dask.distributed import Client, progress\n",
        "import dask.bag as db\n",
        "\n",
        "nltk.download('punkt') ## Tokenizer"
      ]
    },
    {
      "cell_type": "code",
      "execution_count": null,
      "metadata": {
        "id": "wNvnmu4E_ZsQ",
        "outputId": "654d03ec-cc93-4e35-e586-0d6908b18b3c"
      },
      "outputs": [
        {
          "name": "stderr",
          "output_type": "stream",
          "text": [
            "c:\\Users\\aleja\\.conda\\envs\\guia502\\Lib\\site-packages\\distributed\\node.py:182: UserWarning: Port 8787 is already in use.\n",
            "Perhaps you already have a cluster running?\n",
            "Hosting the HTTP server on port 50892 instead\n",
            "  warnings.warn(\n"
          ]
        },
        {
          "data": {
            "text/html": [
              "<div>\n",
              "    <div style=\"width: 24px; height: 24px; background-color: #e1e1e1; border: 3px solid #9D9D9D; border-radius: 5px; position: absolute;\"> </div>\n",
              "    <div style=\"margin-left: 48px;\">\n",
              "        <h3 style=\"margin-bottom: 0px;\">Client</h3>\n",
              "        <p style=\"color: #9D9D9D; margin-bottom: 0px;\">Client-2e3d3902-6ad1-11ef-b2e4-80d21dc8a082</p>\n",
              "        <table style=\"width: 100%; text-align: left;\">\n",
              "\n",
              "        <tr>\n",
              "        \n",
              "            <td style=\"text-align: left;\"><strong>Connection method:</strong> Cluster object</td>\n",
              "            <td style=\"text-align: left;\"><strong>Cluster type:</strong> distributed.LocalCluster</td>\n",
              "        \n",
              "        </tr>\n",
              "\n",
              "        \n",
              "            <tr>\n",
              "                <td style=\"text-align: left;\">\n",
              "                    <strong>Dashboard: </strong> <a href=\"http://192.168.10.7:50892/status\" target=\"_blank\">http://192.168.10.7:50892/status</a>\n",
              "                </td>\n",
              "                <td style=\"text-align: left;\"></td>\n",
              "            </tr>\n",
              "        \n",
              "\n",
              "        </table>\n",
              "\n",
              "        \n",
              "\n",
              "        \n",
              "            <details>\n",
              "            <summary style=\"margin-bottom: 20px;\"><h3 style=\"display: inline;\">Cluster Info</h3></summary>\n",
              "            <div class=\"jp-RenderedHTMLCommon jp-RenderedHTML jp-mod-trusted jp-OutputArea-output\">\n",
              "    <div style=\"width: 24px; height: 24px; background-color: #e1e1e1; border: 3px solid #9D9D9D; border-radius: 5px; position: absolute;\">\n",
              "    </div>\n",
              "    <div style=\"margin-left: 48px;\">\n",
              "        <h3 style=\"margin-bottom: 0px; margin-top: 0px;\">LocalCluster</h3>\n",
              "        <p style=\"color: #9D9D9D; margin-bottom: 0px;\">ee0b257d</p>\n",
              "        <table style=\"width: 100%; text-align: left;\">\n",
              "            <tr>\n",
              "                <td style=\"text-align: left;\">\n",
              "                    <strong>Dashboard:</strong> <a href=\"http://192.168.10.7:50892/status\" target=\"_blank\">http://192.168.10.7:50892/status</a>\n",
              "                </td>\n",
              "                <td style=\"text-align: left;\">\n",
              "                    <strong>Workers:</strong> 2\n",
              "                </td>\n",
              "            </tr>\n",
              "            <tr>\n",
              "                <td style=\"text-align: left;\">\n",
              "                    <strong>Total threads:</strong> 8\n",
              "                </td>\n",
              "                <td style=\"text-align: left;\">\n",
              "                    <strong>Total memory:</strong> 14.90 GiB\n",
              "                </td>\n",
              "            </tr>\n",
              "            \n",
              "            <tr>\n",
              "    <td style=\"text-align: left;\"><strong>Status:</strong> running</td>\n",
              "    <td style=\"text-align: left;\"><strong>Using processes:</strong> False</td>\n",
              "</tr>\n",
              "\n",
              "            \n",
              "        </table>\n",
              "\n",
              "        <details>\n",
              "            <summary style=\"margin-bottom: 20px;\">\n",
              "                <h3 style=\"display: inline;\">Scheduler Info</h3>\n",
              "            </summary>\n",
              "\n",
              "            <div style=\"\">\n",
              "    <div>\n",
              "        <div style=\"width: 24px; height: 24px; background-color: #FFF7E5; border: 3px solid #FF6132; border-radius: 5px; position: absolute;\"> </div>\n",
              "        <div style=\"margin-left: 48px;\">\n",
              "            <h3 style=\"margin-bottom: 0px;\">Scheduler</h3>\n",
              "            <p style=\"color: #9D9D9D; margin-bottom: 0px;\">Scheduler-ee83f0d2-c82a-4e36-9d00-9dba6500f437</p>\n",
              "            <table style=\"width: 100%; text-align: left;\">\n",
              "                <tr>\n",
              "                    <td style=\"text-align: left;\">\n",
              "                        <strong>Comm:</strong> inproc://192.168.10.7/13028/39\n",
              "                    </td>\n",
              "                    <td style=\"text-align: left;\">\n",
              "                        <strong>Workers:</strong> 2\n",
              "                    </td>\n",
              "                </tr>\n",
              "                <tr>\n",
              "                    <td style=\"text-align: left;\">\n",
              "                        <strong>Dashboard:</strong> <a href=\"http://192.168.10.7:50892/status\" target=\"_blank\">http://192.168.10.7:50892/status</a>\n",
              "                    </td>\n",
              "                    <td style=\"text-align: left;\">\n",
              "                        <strong>Total threads:</strong> 8\n",
              "                    </td>\n",
              "                </tr>\n",
              "                <tr>\n",
              "                    <td style=\"text-align: left;\">\n",
              "                        <strong>Started:</strong> Just now\n",
              "                    </td>\n",
              "                    <td style=\"text-align: left;\">\n",
              "                        <strong>Total memory:</strong> 14.90 GiB\n",
              "                    </td>\n",
              "                </tr>\n",
              "            </table>\n",
              "        </div>\n",
              "    </div>\n",
              "\n",
              "    <details style=\"margin-left: 48px;\">\n",
              "        <summary style=\"margin-bottom: 20px;\">\n",
              "            <h3 style=\"display: inline;\">Workers</h3>\n",
              "        </summary>\n",
              "\n",
              "        \n",
              "        <div style=\"margin-bottom: 20px;\">\n",
              "            <div style=\"width: 24px; height: 24px; background-color: #DBF5FF; border: 3px solid #4CC9FF; border-radius: 5px; position: absolute;\"> </div>\n",
              "            <div style=\"margin-left: 48px;\">\n",
              "            <details>\n",
              "                <summary>\n",
              "                    <h4 style=\"margin-bottom: 0px; display: inline;\">Worker: 0</h4>\n",
              "                </summary>\n",
              "                <table style=\"width: 100%; text-align: left;\">\n",
              "                    <tr>\n",
              "                        <td style=\"text-align: left;\">\n",
              "                            <strong>Comm: </strong> inproc://192.168.10.7/13028/42\n",
              "                        </td>\n",
              "                        <td style=\"text-align: left;\">\n",
              "                            <strong>Total threads: </strong> 4\n",
              "                        </td>\n",
              "                    </tr>\n",
              "                    <tr>\n",
              "                        <td style=\"text-align: left;\">\n",
              "                            <strong>Dashboard: </strong> <a href=\"http://192.168.10.7:50896/status\" target=\"_blank\">http://192.168.10.7:50896/status</a>\n",
              "                        </td>\n",
              "                        <td style=\"text-align: left;\">\n",
              "                            <strong>Memory: </strong> 7.45 GiB\n",
              "                        </td>\n",
              "                    </tr>\n",
              "                    <tr>\n",
              "                        <td style=\"text-align: left;\">\n",
              "                            <strong>Nanny: </strong> None\n",
              "                        </td>\n",
              "                        <td style=\"text-align: left;\"></td>\n",
              "                    </tr>\n",
              "                    <tr>\n",
              "                        <td colspan=\"2\" style=\"text-align: left;\">\n",
              "                            <strong>Local directory: </strong> C:\\Users\\aleja\\AppData\\Local\\Temp\\dask-scratch-space\\worker-zqmvidn2\n",
              "                        </td>\n",
              "                    </tr>\n",
              "\n",
              "                    \n",
              "\n",
              "                    \n",
              "\n",
              "                </table>\n",
              "            </details>\n",
              "            </div>\n",
              "        </div>\n",
              "        \n",
              "        <div style=\"margin-bottom: 20px;\">\n",
              "            <div style=\"width: 24px; height: 24px; background-color: #DBF5FF; border: 3px solid #4CC9FF; border-radius: 5px; position: absolute;\"> </div>\n",
              "            <div style=\"margin-left: 48px;\">\n",
              "            <details>\n",
              "                <summary>\n",
              "                    <h4 style=\"margin-bottom: 0px; display: inline;\">Worker: 1</h4>\n",
              "                </summary>\n",
              "                <table style=\"width: 100%; text-align: left;\">\n",
              "                    <tr>\n",
              "                        <td style=\"text-align: left;\">\n",
              "                            <strong>Comm: </strong> inproc://192.168.10.7/13028/44\n",
              "                        </td>\n",
              "                        <td style=\"text-align: left;\">\n",
              "                            <strong>Total threads: </strong> 4\n",
              "                        </td>\n",
              "                    </tr>\n",
              "                    <tr>\n",
              "                        <td style=\"text-align: left;\">\n",
              "                            <strong>Dashboard: </strong> <a href=\"http://192.168.10.7:50897/status\" target=\"_blank\">http://192.168.10.7:50897/status</a>\n",
              "                        </td>\n",
              "                        <td style=\"text-align: left;\">\n",
              "                            <strong>Memory: </strong> 7.45 GiB\n",
              "                        </td>\n",
              "                    </tr>\n",
              "                    <tr>\n",
              "                        <td style=\"text-align: left;\">\n",
              "                            <strong>Nanny: </strong> None\n",
              "                        </td>\n",
              "                        <td style=\"text-align: left;\"></td>\n",
              "                    </tr>\n",
              "                    <tr>\n",
              "                        <td colspan=\"2\" style=\"text-align: left;\">\n",
              "                            <strong>Local directory: </strong> C:\\Users\\aleja\\AppData\\Local\\Temp\\dask-scratch-space\\worker-97clct9d\n",
              "                        </td>\n",
              "                    </tr>\n",
              "\n",
              "                    \n",
              "\n",
              "                    \n",
              "\n",
              "                </table>\n",
              "            </details>\n",
              "            </div>\n",
              "        </div>\n",
              "        \n",
              "\n",
              "    </details>\n",
              "</div>\n",
              "\n",
              "        </details>\n",
              "    </div>\n",
              "</div>\n",
              "            </details>\n",
              "        \n",
              "\n",
              "    </div>\n",
              "</div>"
            ],
            "text/plain": [
              "<Client: 'inproc://192.168.10.7/13028/39' processes=2 threads=8, memory=14.90 GiB>"
            ]
          },
          "execution_count": 107,
          "metadata": {},
          "output_type": "execute_result"
        },
        {
          "name": "stderr",
          "output_type": "stream",
          "text": [
            "2024-09-04 13:22:48,792 - distributed.scheduler - WARNING - Worker failed to heartbeat for 878s; removing: <WorkerState 'inproc://192.168.10.7/13028/42', name: 0, status: running, memory: 0, processing: 0>\n",
            "2024-09-04 13:22:48,814 - distributed.scheduler - WARNING - Worker failed to heartbeat for 878s; removing: <WorkerState 'inproc://192.168.10.7/13028/44', name: 1, status: running, memory: 0, processing: 0>\n",
            "2024-09-04 13:22:48,817 - distributed.scheduler - WARNING - Workers ['inproc://192.168.10.7/13028/44', 'inproc://192.168.10.7/13028/42'] do not use a nanny and will be terminated without restarting them\n",
            "2024-09-04 13:22:48,825 - distributed.scheduler - WARNING - Received heartbeat from unregistered worker 'inproc://192.168.10.7/13028/44'.\n",
            "2024-09-04 13:22:48,827 - distributed.scheduler - WARNING - Received heartbeat from unregistered worker 'inproc://192.168.10.7/13028/42'.\n",
            "2024-09-04 13:22:48,833 - distributed.worker - WARNING - Scheduler was unaware of this worker; shutting down.\n",
            "2024-09-04 13:22:48,838 - distributed.worker - WARNING - Scheduler was unaware of this worker; shutting down.\n"
          ]
        }
      ],
      "source": [
        "client = Client(n_workers=2, threads_per_worker=4, processes=False, memory_limit='8GB')\n",
        "client"
      ]
    },
    {
      "cell_type": "markdown",
      "metadata": {
        "id": "wpG3qwvn_ZsR"
      },
      "source": [
        "## Procesamiento del conjunto de datos medinte la libreria DASK"
      ]
    },
    {
      "cell_type": "code",
      "execution_count": null,
      "metadata": {
        "id": "0hPxPc_s_ZsR"
      },
      "outputs": [],
      "source": [
        "bag_video_dataset = db.read_text('dataset_es_dev.json', blocksize='10MB').map(json.loads)"
      ]
    },
    {
      "cell_type": "code",
      "execution_count": null,
      "metadata": {
        "id": "uqNsHGji_ZsR",
        "outputId": "4759b82b-a216-477f-9f01-c0ab65249b22"
      },
      "outputs": [
        {
          "data": {
            "text/plain": [
              "5000"
            ]
          },
          "execution_count": 109,
          "metadata": {},
          "output_type": "execute_result"
        }
      ],
      "source": [
        "bag_video_dataset.count().compute()  # Count total number of records\n"
      ]
    },
    {
      "cell_type": "code",
      "execution_count": null,
      "metadata": {
        "id": "W_TAxdoj_ZsR",
        "outputId": "d157ea36-46fe-4d9b-f768-d555382a6f9b"
      },
      "outputs": [
        {
          "data": {
            "text/plain": [
              "({'review_id': 'es_0417480',\n",
              "  'product_id': 'product_es_0873923',\n",
              "  'reviewer_id': 'reviewer_es_0672978',\n",
              "  'stars': '1',\n",
              "  'review_body': 'Malisimo, muy grande demasiado aparatoso y mal protector de pantalla',\n",
              "  'review_title': 'Mala compra',\n",
              "  'language': 'es',\n",
              "  'product_category': 'wireless'},\n",
              " {'review_id': 'es_0180432',\n",
              "  'product_id': 'product_es_0713146',\n",
              "  'reviewer_id': 'reviewer_es_0100858',\n",
              "  'stars': '1',\n",
              "  'review_body': 'No he recibido el pedido no la devolución',\n",
              "  'review_title': 'No lo he recibido',\n",
              "  'language': 'es',\n",
              "  'product_category': 'apparel'})"
            ]
          },
          "execution_count": 110,
          "metadata": {},
          "output_type": "execute_result"
        }
      ],
      "source": [
        "bag_video_dataset.take(2)"
      ]
    },
    {
      "cell_type": "code",
      "execution_count": null,
      "metadata": {
        "id": "-3W1XLfw_ZsR",
        "outputId": "065e025e-fc47-4c88-da46-d8c3547dedfb"
      },
      "outputs": [
        {
          "data": {
            "text/plain": [
              "({'review_id': 'es_0417480',\n",
              "  'stars': '1',\n",
              "  'review_body': 'Malisimo, muy grande demasiado aparatoso y mal protector de pantalla',\n",
              "  'review_title': 'Mala compra',\n",
              "  'language': 'es',\n",
              "  'product_category': 'wireless'},)"
            ]
          },
          "execution_count": 111,
          "metadata": {},
          "output_type": "execute_result"
        }
      ],
      "source": [
        "def flatten(record):\n",
        "    return {\n",
        "        'review_id': record['review_id'],\n",
        "        'stars': record['stars'],\n",
        "        'review_body': record['review_body'],\n",
        "        'review_title': record['review_title'],\n",
        "        'language': record['language'],\n",
        "        'product_category': record['product_category']\n",
        "    }\n",
        "\n",
        "bag_video_dataset.map(flatten).take(1)"
      ]
    },
    {
      "cell_type": "code",
      "execution_count": null,
      "metadata": {
        "id": "hwywQtV6_ZsS",
        "outputId": "3bc0fa3f-d8b5-4884-aedc-c293e7b7cd25"
      },
      "outputs": [
        {
          "data": {
            "text/html": [
              "<div>\n",
              "<style scoped>\n",
              "    .dataframe tbody tr th:only-of-type {\n",
              "        vertical-align: middle;\n",
              "    }\n",
              "\n",
              "    .dataframe tbody tr th {\n",
              "        vertical-align: top;\n",
              "    }\n",
              "\n",
              "    .dataframe thead th {\n",
              "        text-align: right;\n",
              "    }\n",
              "</style>\n",
              "<table border=\"1\" class=\"dataframe\">\n",
              "  <thead>\n",
              "    <tr style=\"text-align: right;\">\n",
              "      <th></th>\n",
              "      <th>review_id</th>\n",
              "      <th>stars</th>\n",
              "      <th>review_body</th>\n",
              "      <th>review_title</th>\n",
              "      <th>language</th>\n",
              "      <th>product_category</th>\n",
              "    </tr>\n",
              "  </thead>\n",
              "  <tbody>\n",
              "    <tr>\n",
              "      <th>0</th>\n",
              "      <td>es_0417480</td>\n",
              "      <td>1.0</td>\n",
              "      <td>Malisimo, muy grande demasiado aparatoso y mal...</td>\n",
              "      <td>Mala compra</td>\n",
              "      <td>es</td>\n",
              "      <td>wireless</td>\n",
              "    </tr>\n",
              "    <tr>\n",
              "      <th>1</th>\n",
              "      <td>es_0180432</td>\n",
              "      <td>1.0</td>\n",
              "      <td>No he recibido el pedido no la devolución</td>\n",
              "      <td>No lo he recibido</td>\n",
              "      <td>es</td>\n",
              "      <td>apparel</td>\n",
              "    </tr>\n",
              "    <tr>\n",
              "      <th>2</th>\n",
              "      <td>es_0144850</td>\n",
              "      <td>1.0</td>\n",
              "      <td>Tengo que buscar otro sistema, este no funcion...</td>\n",
              "      <td>Que no aprieta bien en el manillar</td>\n",
              "      <td>es</td>\n",
              "      <td>sports</td>\n",
              "    </tr>\n",
              "    <tr>\n",
              "      <th>3</th>\n",
              "      <td>es_0339629</td>\n",
              "      <td>1.0</td>\n",
              "      <td>Utilicé las brocas de menor diámetro y se me d...</td>\n",
              "      <td>Brocas de mantequilla</td>\n",
              "      <td>es</td>\n",
              "      <td>home_improvement</td>\n",
              "    </tr>\n",
              "    <tr>\n",
              "      <th>4</th>\n",
              "      <td>es_0858362</td>\n",
              "      <td>1.0</td>\n",
              "      <td>No me gusta su olor a viejo y aspecto malo</td>\n",
              "      <td>No me gusta</td>\n",
              "      <td>es</td>\n",
              "      <td>beauty</td>\n",
              "    </tr>\n",
              "  </tbody>\n",
              "</table>\n",
              "</div>"
            ],
            "text/plain": [
              "    review_id  stars                                        review_body  \\\n",
              "0  es_0417480    1.0  Malisimo, muy grande demasiado aparatoso y mal...   \n",
              "1  es_0180432    1.0          No he recibido el pedido no la devolución   \n",
              "2  es_0144850    1.0  Tengo que buscar otro sistema, este no funcion...   \n",
              "3  es_0339629    1.0  Utilicé las brocas de menor diámetro y se me d...   \n",
              "4  es_0858362    1.0         No me gusta su olor a viejo y aspecto malo   \n",
              "\n",
              "                         review_title language  product_category  \n",
              "0                         Mala compra       es          wireless  \n",
              "1                   No lo he recibido       es           apparel  \n",
              "2  Que no aprieta bien en el manillar       es            sports  \n",
              "3               Brocas de mantequilla       es  home_improvement  \n",
              "4                         No me gusta       es            beauty  "
            ]
          },
          "execution_count": 112,
          "metadata": {},
          "output_type": "execute_result"
        }
      ],
      "source": [
        "df_final = bag_video_dataset.map(flatten).to_dataframe()\n",
        "df_final[\"stars\"] = df_final[\"stars\"].astype(float)\n",
        "df_final.head()"
      ]
    },
    {
      "cell_type": "code",
      "execution_count": null,
      "metadata": {
        "id": "kX2_97ii_ZsS",
        "outputId": "9695d58b-9daa-4467-813d-2ea1cd2eaa74"
      },
      "outputs": [
        {
          "data": {
            "text/plain": [
              "[('1', 1000), ('2', 1000), ('3', 1000), ('4', 1000), ('5', 1000)]"
            ]
          },
          "execution_count": 113,
          "metadata": {},
          "output_type": "execute_result"
        }
      ],
      "source": [
        "bag_video_frecuencias = bag_video_dataset.map(lambda d: d['stars']).frequencies(sort=True).compute()\n",
        "bag_video_frecuencias"
      ]
    },
    {
      "cell_type": "markdown",
      "metadata": {
        "id": "l8IatYNe_ZsS"
      },
      "source": [
        "#### Gráfica de pastel: porcentaje de calificaciones (estrellas)"
      ]
    },
    {
      "cell_type": "code",
      "execution_count": null,
      "metadata": {
        "id": "SJdZzeAU_ZsS",
        "outputId": "890051b9-6618-4000-c084-85e2a128b9ab"
      },
      "outputs": [
        {
          "data": {
            "image/png": "[encoded data removed]",
            "text/plain": [
              "<Figure size 640x480 with 1 Axes>"
            ]
          },
          "metadata": {},
          "output_type": "display_data"
        }
      ],
      "source": [
        "def plot_pie(data_list):\n",
        "    # Desempaquetar la lista en etiquetas y valores\n",
        "    labels, sizes = zip(*data_list)\n",
        "\n",
        "    # Crear la gráfica de pastel\n",
        "    plt.pie(sizes, labels=labels, autopct='%1.1f%%', startangle=140)\n",
        "\n",
        "\n",
        "    plt.axis('equal')\n",
        "\n",
        "    # Devolver el gráfico para su posterior uso\n",
        "    return plt\n",
        "\n",
        "# Ejemplo de uso\n",
        "ax1 = plot_pie(bag_video_frecuencias)\n",
        "ax1.show()"
      ]
    },
    {
      "cell_type": "markdown",
      "metadata": {
        "id": "P7XIX7OT_ZsS"
      },
      "source": [
        "La gráfica de pastel muestra que la base de datos recopiló los datos de manera uniforme. Cada categoría de calificación del producto contiene aproximadamente 1,000 reseñas, lo que resulta en una distribución equitativa. Como consecuencia, las cinco categorías de calificación representan cada una el 20% del total."
      ]
    },
    {
      "cell_type": "code",
      "execution_count": null,
      "metadata": {
        "id": "pUAbFg-V_ZsS"
      },
      "outputs": [],
      "source": [
        "#loading libraries\n",
        "from nltk.corpus import stopwords\n",
        "from nltk.tokenize import RegexpTokenizer\n",
        "from functools import partial"
      ]
    },
    {
      "cell_type": "code",
      "execution_count": null,
      "metadata": {
        "id": "ZquQ_xBe_ZsS"
      },
      "outputs": [],
      "source": [
        "#First part, classify reviews as positive if the overall rating is > 3 and negative otherwise\n",
        "def tag_positive_negative_by_score(element):\n",
        "    if float(element['stars']) > 3:\n",
        "        element['review_sentiment'] = 'positive'\n",
        "    else:\n",
        "        element['review_sentiment'] = 'negative'\n",
        "    return element"
      ]
    },
    {
      "cell_type": "code",
      "execution_count": null,
      "metadata": {
        "id": "-zeDvQug_ZsT",
        "outputId": "275ca534-622a-4f4c-a9a6-69cbff1260dd"
      },
      "outputs": [
        {
          "data": {
            "text/plain": [
              "({'review_id': 'es_0417480',\n",
              "  'product_id': 'product_es_0873923',\n",
              "  'reviewer_id': 'reviewer_es_0672978',\n",
              "  'stars': '1',\n",
              "  'review_body': 'Malisimo, muy grande demasiado aparatoso y mal protector de pantalla',\n",
              "  'review_title': 'Mala compra',\n",
              "  'language': 'es',\n",
              "  'product_category': 'wireless',\n",
              "  'review_sentiment': 'negative'},)"
            ]
          },
          "execution_count": 117,
          "metadata": {},
          "output_type": "execute_result"
        }
      ],
      "source": [
        "bag_video_dataset.map(tag_positive_negative_by_score).take(1)"
      ]
    },
    {
      "cell_type": "code",
      "execution_count": null,
      "metadata": {
        "id": "n_RX3Zq3_ZsT"
      },
      "outputs": [],
      "source": [
        "\n",
        "from nltk.corpus import stopwords\n",
        "from nltk.tokenize import RegexpTokenizer\n",
        "from functools import partial"
      ]
    },
    {
      "cell_type": "code",
      "execution_count": null,
      "metadata": {
        "id": "eyXNLBOm_ZsT",
        "outputId": "b9d7f551-5b52-4c57-ec01-883ba992a061"
      },
      "outputs": [
        {
          "name": "stderr",
          "output_type": "stream",
          "text": [
            "[nltk_data] Downloading package stopwords to\n",
            "[nltk_data]     C:\\Users\\aleja\\AppData\\Roaming\\nltk_data...\n",
            "[nltk_data]   Package stopwords is already up-to-date!\n"
          ]
        },
        {
          "data": {
            "text/plain": [
              "True"
            ]
          },
          "execution_count": 119,
          "metadata": {},
          "output_type": "execute_result"
        }
      ],
      "source": [
        "import nltk\n",
        "nltk.download('stopwords')"
      ]
    },
    {
      "cell_type": "code",
      "execution_count": null,
      "metadata": {
        "id": "TCuxUqhZ_ZsT"
      },
      "outputs": [],
      "source": [
        "\n",
        "tokenizer = RegexpTokenizer(r'\\w+')\n",
        "\n",
        "def extract_reviews(bagtoprocess):\n",
        "    return bagtoprocess['review_body'].lower()\n",
        "\n",
        "def checkif_stopword(word, stopwords):\n",
        "    return word not in stopwords\n",
        "\n",
        "def filter_stopwords(tokens, stopwords):\n",
        "    return list(filter(partial(checkif_stopword, stopwords=stopwords), tokens))\n",
        "stopword_set = set(stopwords.words('spanish'))"
      ]
    },
    {
      "cell_type": "code",
      "execution_count": null,
      "metadata": {
        "id": "NgG7ME0p_ZsT"
      },
      "outputs": [],
      "source": [
        "reviews_text_iv = bag_video_dataset.map(extract_reviews) #all text in lower\n",
        "reviews_txtokens_iv = reviews_text_iv.map(tokenizer.tokenize) #just words\n",
        "reviews_txclean_iv = reviews_txtokens_iv.map(partial(filter_stopwords, stopwords=stopword_set))"
      ]
    },
    {
      "cell_type": "code",
      "execution_count": null,
      "metadata": {
        "id": "D6IMm3qx_ZsT",
        "outputId": "3be7552a-dd74-4860-95e3-510edf36c4b1"
      },
      "outputs": [
        {
          "data": {
            "text/plain": [
              "('malisimo, muy grande demasiado aparatoso y mal protector de pantalla',)"
            ]
          },
          "metadata": {},
          "output_type": "display_data"
        },
        {
          "data": {
            "text/plain": [
              "(['malisimo',\n",
              "  'grande',\n",
              "  'demasiado',\n",
              "  'aparatoso',\n",
              "  'mal',\n",
              "  'protector',\n",
              "  'pantalla'],)"
            ]
          },
          "metadata": {},
          "output_type": "display_data"
        }
      ],
      "source": [
        "display(reviews_text_iv.take(1))\n",
        "#reviews_text_tokens.take(1)\n",
        "display(reviews_txclean_iv.take(1))"
      ]
    },
    {
      "cell_type": "code",
      "execution_count": null,
      "metadata": {
        "id": "efttXBF1_ZsT",
        "outputId": "70c120f4-0c34-4c5c-b6f0-426046f4a3a7"
      },
      "outputs": [
        {
          "data": {
            "text/plain": [
              "('malisimo', 'grande', 'demasiado', 'aparatoso', 'mal', 'protector')"
            ]
          },
          "execution_count": 123,
          "metadata": {},
          "output_type": "execute_result"
        }
      ],
      "source": [
        "all_reviews_clean_iv = reviews_txclean_iv.flatten()\n",
        "all_reviews_clean_iv.take(6)"
      ]
    },
    {
      "cell_type": "code",
      "execution_count": null,
      "metadata": {
        "id": "pQvE2hEo_ZsU"
      },
      "outputs": [],
      "source": [
        "def combine(total1, total2):\n",
        "    return total1 + total2\n",
        "\n",
        "def count(accumulator,element):\n",
        "    return accumulator + 1"
      ]
    },
    {
      "cell_type": "code",
      "execution_count": null,
      "metadata": {
        "id": "PGn6AiCm_ZsU"
      },
      "outputs": [],
      "source": [
        "all_reviews_products = bag_video_dataset.map(extract_reviews)\n",
        "all_reviews_products_tokens = all_reviews_products.map(tokenizer.tokenize) #just words\n",
        "all_reviews_products_clean = all_reviews_products_tokens.map(partial(filter_stopwords, stopwords=stopword_set)) #filtering english stopwords"
      ]
    },
    {
      "cell_type": "code",
      "execution_count": null,
      "metadata": {
        "id": "Rh1TFMmm_ZsU"
      },
      "outputs": [],
      "source": [
        "import dask.dataframe as dd\n",
        "df_final['reviewlen'] = df_final['review_body'].str.len()\n"
      ]
    },
    {
      "cell_type": "code",
      "execution_count": null,
      "metadata": {
        "id": "V5A9DRln_ZsU",
        "outputId": "68c3e310-56bb-44e6-ac25-1fcbb3c1055b"
      },
      "outputs": [
        {
          "name": "stdout",
          "output_type": "stream",
          "text": [
            "1576\n"
          ]
        }
      ],
      "source": [
        "max_reviewlen = df_final[\"reviewlen\"].max().compute()\n",
        "\n",
        "# Imprime el valor calculado\n",
        "print(max_reviewlen)"
      ]
    },
    {
      "cell_type": "markdown",
      "metadata": {
        "id": "V3g0fY0L_ZsU"
      },
      "source": [
        "### Gráfica Distribución de la Longitud de las Reseñas"
      ]
    },
    {
      "cell_type": "code",
      "execution_count": null,
      "metadata": {
        "id": "6pCrsF_7_ZsU",
        "outputId": "f5926a37-e89b-400f-f3bb-a0a6ef35afff"
      },
      "outputs": [
        {
          "data": {
            "image/png": "[encoded data removed]",
            "text/plain": [
              "<Figure size 640x480 with 1 Axes>"
            ]
          },
          "metadata": {},
          "output_type": "display_data"
        }
      ],
      "source": [
        "\n",
        "# Convierte la columna 'reviewlen' a un pandas DataFrame\n",
        "reviewlen_pandas = df_final[\"reviewlen\"].compute()\n",
        "\n",
        "# Crea el histograma\n",
        "plt.hist(reviewlen_pandas, color=\"green\", bins=60)\n",
        "\n",
        "# Agrega título y etiquetas a los ejes\n",
        "plt.title('Distribución de la Longitud de las Reseñas')\n",
        "plt.xlabel('Longitud de la Reseña')\n",
        "plt.ylabel('Número de Reseñas')\n",
        "\n",
        "# Desactiva la cuadrícula\n",
        "plt.grid(False)\n",
        "\n",
        "# Muestra el gráfico\n",
        "plt.show()"
      ]
    },
    {
      "cell_type": "markdown",
      "metadata": {
        "id": "jlPMtB3P_ZsU"
      },
      "source": [
        "La gran mayoría de las reseñas son relativamente cortas, concentrándose en las primeras barras del histograma, por lo que, sugiere que la mayoría de los usuarios prefieren dejar comentarios concisos. Tambien se logra observar una disminución gradual, ya que, a medida que aumenta la longitud de las reseñas, el número de ellas disminuye de manera gradual. Esto indica que a medida que las reseñas se hacen más largas, son menos frecuentes. Por ultimo, una existe muy pocas reseñas que superan las 1000 palabras, esto se podria deber a varios factores, como la disposición de los usuarios a dedicar mucho tiempo a escribir una reseña detallada, o las limitaciones de las plataformas para reseñas muy extensas."
      ]
    },
    {
      "cell_type": "markdown",
      "metadata": {
        "id": "w7CBwWnI_ZsU"
      },
      "source": [
        "## Bigramas"
      ]
    },
    {
      "cell_type": "code",
      "execution_count": null,
      "metadata": {
        "id": "Vi94APUg_ZsU"
      },
      "outputs": [],
      "source": [
        "def make_bigrams(tokens):\n",
        "    return set(nltk.bigrams(tokens))"
      ]
    },
    {
      "cell_type": "code",
      "execution_count": null,
      "metadata": {
        "id": "cCPCQK-i_ZsU"
      },
      "outputs": [],
      "source": [
        "review_bigrams1 = all_reviews_products_clean.map(make_bigrams)\n",
        "all_bigrams = review_bigrams1.flatten()"
      ]
    },
    {
      "cell_type": "code",
      "execution_count": null,
      "metadata": {
        "id": "eJy9qIYE_ZsV",
        "outputId": "bd67b215-86b9-48e5-8990-ecc340602249"
      },
      "outputs": [
        {
          "data": {
            "text/plain": [
              "[(('calidad', 'precio'), 192),\n",
              " (('buena', 'calidad'), 157),\n",
              " (('relación', 'calidad'), 94),\n",
              " (('funciona', 'bien'), 85),\n",
              " (('buen', 'producto'), 70),\n",
              " (('va', 'bien'), 67),\n",
              " (('mala', 'calidad'), 50),\n",
              " (('cumple', 'función'), 47),\n",
              " (('bastante', 'bien'), 46),\n",
              " (('queda', 'bien'), 41)]"
            ]
          },
          "execution_count": 131,
          "metadata": {},
          "output_type": "execute_result"
        }
      ],
      "source": [
        "top10_bigrams = all_bigrams.foldby(lambda x: x, count, 0, combine, 0).topk(10, key=lambda x: x[1]).compute()\n",
        "top10_bigrams"
      ]
    },
    {
      "cell_type": "markdown",
      "metadata": {
        "id": "W7tmA5A-_ZsV"
      },
      "source": [
        "### Conclusiones del Análisis de Bigramas\n",
        "los bigramas más frecuentes sugieren que los usuarios tienden a centrar sus opiniones en la calidad, el precio, y el buen funcionamiento de los productos. Estos aspectos parecen ser determinantes en la percepción general y en la satisfacción del cliente con los productos analizados teniendo en cuenta que los aspectos que más se comentaron fueron:\n",
        "\n",
        "- **Relación Calidad-Precio:** El bigrama más frecuente, \"calidad precio\", con 192 apariciones, sugiere que la relación entre la calidad del producto y su precio es un tema crucial para los consumidores. Esto indica que los usuarios valoran especialmente productos que ofrezcan un buen balance entre estos dos factores.\n",
        "\n",
        "- **Calidad del Producto:** \"Buena calidad\" y \"mala calidad\" son otros bigramas destacados, con 157 y 50 menciones, respectivamente. Esto subraya que la calidad es un aspecto central en la experiencia del cliente, siendo un factor decisivo en la satisfacción o insatisfacción con el producto.\n",
        "\n",
        "- **Funcionamiento:** Bigrams como \"funciona bien\" (85 menciones) y \"cumple función\" (47 menciones) indican que los usuarios también valoran que el producto cumpla con sus expectativas en términos de funcionalidad. La repetición de términos como \"bien\" en contextos de funcionamiento sugiere una evaluación positiva general de los productos analizados.\n",
        "\n",
        "- **Opiniones Positivas Generales:** Bigrams como \"buen producto\" (70 menciones) y \"bastante bien\" (46 menciones) destacan la tendencia de los usuarios a emitir juicios generales positivos sobre los productos, lo cual podría indicar un nivel alto de satisfacción en la mayoría de los casos.\n",
        "\n",
        "- **Ajuste y Compatibilidad:** El bigrama \"queda bien\" (41 menciones) sugiere que la adecuación o el ajuste de los productos es también un tema importante para los usuarios, lo cual podría ser relevante para categorías de productos como ropa, accesorios o piezas que deben encajar correctamente."
      ]
    },
    {
      "cell_type": "markdown",
      "metadata": {
        "id": "zQfCRDUA_ZsV"
      },
      "source": [
        "###  ¿Cuáles son las palabras mas comunes que se presentan en el sentimiento negativo que no están en el positivo?\n",
        "---\n",
        "\n"
      ]
    },
    {
      "cell_type": "markdown",
      "metadata": {
        "id": "ZZ6Zrl2Y_ZsV"
      },
      "source": [
        "Debido a la falta de una librería estándar que proporcione stopwords en español, se optó por descargar un archivo específico para obtener un listado completo de stopwords en este idioma. El archivo adjunto, \"spanish-stop-words.txt\", contiene más de 300 stopwords en español, asegurando así una cobertura amplia y precisa para los análisis de texto. Este enfoque permite realizar una limpieza de datos más efectiva y adaptada al idioma, mejorando la calidad de los resultados en el procesamiento de texto."
      ]
    },
    {
      "cell_type": "code",
      "execution_count": null,
      "metadata": {
        "id": "6k-DTatm_ZsV"
      },
      "outputs": [],
      "source": [
        "from sklearn.feature_extraction.text import CountVectorizer\n",
        "\n",
        "def load_stopwords(file_path):\n",
        "    with open(file_path, 'r', encoding='utf-8') as f:\n",
        "        stopwords = f.read().splitlines()\n",
        "    return stopwords\n",
        "\n",
        "def get_top_n_words(corpus, n=1, k=1, stopwords_file='spanish-stop-words.txt'):\n",
        "    # Cargar las stopwords desde el archivo\n",
        "    stopwords = load_stopwords(stopwords_file)\n",
        "\n",
        "    vec = CountVectorizer(ngram_range=(k, k), stop_words=stopwords)\n",
        "    bag_of_words = vec.fit_transform(corpus)\n",
        "    sum_words = bag_of_words.sum(axis=0)\n",
        "    words_freq = [(new_words, sum_words[0, idx]) for new_words, idx in vec.vocabulary_.items()]\n",
        "    words_freq = sorted(words_freq, key=lambda x: x[1], reverse=True)\n",
        "    return words_freq[:n]\n",
        "\n",
        "\n",
        "common_words = get_top_n_words(df_final[\"review_body\"], n=20, k=1, stopwords_file='spanish-stop-words.txt')"
      ]
    },
    {
      "cell_type": "markdown",
      "metadata": {
        "id": "8LWaDcdP_Zsd"
      },
      "source": [
        "En primer lugar, se optuvo la gráfica distribución de frecuencia de las palabras más comunes en la reseñas, en las que abarca tanto los sentimientos postivos y negativos."
      ]
    },
    {
      "cell_type": "code",
      "execution_count": null,
      "metadata": {
        "id": "Hm7o3cHg_Zsd",
        "outputId": "4e2ca4c6-4122-40be-a69c-27a5be4e5892"
      },
      "outputs": [
        {
          "data": {
            "text/plain": [
              "<Axes: title={'center': 'Top 20 palabras más repetidas en las reseñas'}, xlabel='words'>"
            ]
          },
          "execution_count": 133,
          "metadata": {},
          "output_type": "execute_result"
        },
        {
          "data": {
            "image/png": "[encoded data removed]",
            "text/plain": [
              "<Figure size 640x480 with 1 Axes>"
            ]
          },
          "metadata": {},
          "output_type": "display_data"
        }
      ],
      "source": [
        "df_top_words = pd.DataFrame(common_words, columns=[\"words\", \"count\"])\n",
        "df_top_words.groupby(\"words\").sum()[\"count\"].sort_values(ascending=False).plot(\n",
        "    kind=\"bar\", title=\"Top 20 palabras más repetidas en las reseñas\"\n",
        ")"
      ]
    },
    {
      "cell_type": "markdown",
      "metadata": {
        "id": "ioxMEqkE_Zsd"
      },
      "source": [
        "Posteriormente, se filtró la base de datos de manera que aquellas reseñas que tuvieron una calificación mayor a 3, se le categorizara como sentimiento **Positivo** y aquellas que tuvieran una calificación menor a 3 un sentimiento **Negativo**."
      ]
    },
    {
      "cell_type": "code",
      "execution_count": null,
      "metadata": {
        "id": "Oo9I_wAO_Zsd"
      },
      "outputs": [],
      "source": [
        "good_indices = df_final[\"stars\"] > 3\n",
        "good_reviews = df_final[good_indices]\n",
        "bad_indices = df_final[\"stars\"] < 3\n",
        "bad_reviews = df_final[bad_indices]"
      ]
    },
    {
      "cell_type": "code",
      "execution_count": null,
      "metadata": {
        "id": "hhqGsUye_Zsd"
      },
      "outputs": [],
      "source": [
        "common_wordsP = get_top_n_words(good_reviews[\"review_body\"], 20)\n",
        "common_wordsB = get_top_n_words(bad_reviews[\"review_body\"], 20)"
      ]
    },
    {
      "cell_type": "markdown",
      "metadata": {
        "id": "W4yyxVZI_Zsd"
      },
      "source": [
        "Adicionalmente, siendo que lo que se pide son las palabra más comunes que se encuentran en el sentimiento **Negativo** que no estan en el Positivo, se realizó un filtro de manera que si las palabras tanto de positivo y negativo coincidian no se tomaran en cuenta en la gráfica."
      ]
    },
    {
      "cell_type": "code",
      "execution_count": null,
      "metadata": {
        "id": "VIU4Ufn4_Zsd"
      },
      "outputs": [],
      "source": [
        "# Convertir a conjuntos de palabras para encontrar intersección\n",
        "words_good_set = set(word for word, _ in common_wordsP)\n",
        "words_bad_set = set(word for word, _ in common_wordsB)\n",
        "\n",
        "# Encontrar las palabras comunes\n",
        "common_words_to_remove = words_good_set.intersection(words_bad_set)\n",
        "\n",
        "# Filtrar las palabras comunes de las listas originales\n",
        "filtered_good_words = [item for item in common_wordsP if item[0] not in common_words_to_remove]\n",
        "filtered_bad_words = [item for item in common_wordsB if item[0] not in common_words_to_remove]"
      ]
    },
    {
      "cell_type": "markdown",
      "metadata": {
        "id": "mLGWXbMt_Zse"
      },
      "source": [
        "#### Gráfica de top 10 palabras más frecuentes en las reseñas de sentimiento positivo"
      ]
    },
    {
      "cell_type": "code",
      "execution_count": null,
      "metadata": {
        "id": "Rys9YaMv_Zse",
        "outputId": "af08ad53-630c-4437-db54-eb7e7a1bbb89"
      },
      "outputs": [
        {
          "data": {
            "text/plain": [
              "<Axes: title={'center': 'Top 10 words from good reviews'}, xlabel='words'>"
            ]
          },
          "execution_count": 137,
          "metadata": {},
          "output_type": "execute_result"
        },
        {
          "data": {
            "image/png": "[encoded data removed]",
            "text/plain": [
              "<Figure size 640x480 with 1 Axes>"
            ]
          },
          "metadata": {},
          "output_type": "display_data"
        }
      ],
      "source": [
        "df_positive = pd.DataFrame(filtered_good_words, columns=[\"words\", 'count'])\n",
        "df_positive.groupby('words').sum()['count'].sort_values(ascending=False).plot(\n",
        "    kind='bar', title='Top 10 words from good reviews'\n",
        ")"
      ]
    },
    {
      "cell_type": "markdown",
      "metadata": {
        "id": "-0pAEGsU_Zse"
      },
      "source": [
        "La gráfica tiene como palabras con mayor frecuencia aquellas que tienen una connotación negativa cómo: \"buena\", \"buen\", \"perfecto\", \"perfectamente\", \"mejor\", \"bueno\", que puede estar relacionado tanto con el producto como el servicio, mientras que palabras como: \"facil\", \"compra\", \"relación\" puede estar más relacionado al servicio."
      ]
    },
    {
      "cell_type": "markdown",
      "metadata": {
        "id": "E_LDk7NA_Zse"
      },
      "source": [
        "### Gráfica de top 10 palabras más frecuentes en las reseñas de sentimiento Negativo"
      ]
    },
    {
      "cell_type": "code",
      "execution_count": null,
      "metadata": {
        "id": "Eo7xJYDG_Zse",
        "outputId": "c208515a-6342-4141-f9a8-20c6fa475ac5"
      },
      "outputs": [
        {
          "data": {
            "text/plain": [
              "<Axes: title={'center': 'Top 10 words from bad reviews'}, xlabel='words'>"
            ]
          },
          "execution_count": 138,
          "metadata": {},
          "output_type": "execute_result"
        },
        {
          "data": {
            "image/png": "[encoded data removed]",
            "text/plain": [
              "<Figure size 640x480 with 1 Axes>"
            ]
          },
          "metadata": {},
          "output_type": "display_data"
        }
      ],
      "source": [
        "df_negative = pd.DataFrame(filtered_bad_words, columns=['words', 'count'])\n",
        "df_negative.groupby('words').sum()['count'].sort_values(ascending=False).plot(\n",
        "    kind='bar', title='Top 10 words from bad reviews'\n",
        ")"
      ]
    },
    {
      "cell_type": "markdown",
      "metadata": {
        "id": "yioyewYc_Zse"
      },
      "source": [
        "### **Respuesta:**\n",
        "Como es de esperar, las palabras con mayor frecuencia tienen una connotación negativa: \"mal\", \"mala\", \"demasiado\". Esto confirma que el análisis se centra en reseñas expresando insatisfacción.\n",
        "Por otro lado, la palabra \"amazon\" aparece prominentemente, lo que sugiere que las reseñas analizadas provienen en su mayoría de esta plataforma de comercio electrónico. Ahora bien, términos como \"pantalla\", \"caja\" y \"días\" podrían indicar problemas relacionados con el producto en sí, su empaquetado o el tiempo de entrega. y por ultimo, palabras como \"comprar\", \"dinero\" y \"vendedor\" sugieren que los usuarios están expresando insatisfacción con el proceso de compra o con la atención al cliente."
      ]
    },
    {
      "cell_type": "markdown",
      "metadata": {
        "id": "zhpLInIw_Zse"
      },
      "source": [
        "###  ¿Qué diferencias encontró en la capacidad de la librería NLTK para analizar idioma español vs inglés?\n",
        "---"
      ]
    },
    {
      "cell_type": "markdown",
      "metadata": {
        "id": "P0Hpqjdl_Zse"
      },
      "source": [
        "### Recursos Disponibles\n",
        "Las principales diferencias que se encontraron en la capacidad de la libreria NLTK para análizar idioma español vs inglés fue las evidentes limitaciones de NLTK para el Español, puesto que los modelos pre-entrenados para español pueden no alcanzar la misma precisión que los modelos para inglés, especialmente en tareas que requieren una comprensión profunda del lenguaje, como la traducción automática o el análisis de sentimientos. Esto se puede deber a las sigueintes razones:\n",
        "\n",
        "1. **Recursos Lingüísticos:** Cómo se mencionó anteriormente la disponibilidad y calidad de los corpora anotados para el español pueden ser menores en comparación con el inglés. Esto afecta directamente el entrenamiento de modelos y la precisión de los resultados,y aunque NLTK ofrece algunos modelos pre-entrenados para español, su cobertura y precisión pueden no ser tan altas como las de los modelos para inglés, que son más numerosos y refinados.\n",
        "\n",
        "2. **Complejidad Gramatical:** El español es una lengua altamente flexionada, con una gran cantidad de formas verbales y nominales que varían según el género, número, tiempo y modo. Esto puede complicar tareas como la lematización y el etiquetado POS. Además, el orden de las palabras en español es más flexible que en inglés, lo que puede dificultar el análisis sintáctico y por ende la capacidad de la libreria NLTK no tiene tan reforzado esta complejidad gramatical.\n",
        "\n",
        "3. **Variedad dialectal:** El español presenta una gran variedad dialectal, con diferencias significativas en vocabulario, gramática y pronunciación. Esto puede dificultar la creación de modelos lingüísticos generales que funcionen bien en todos los dialectos."
      ]
    },
    {
      "cell_type": "markdown",
      "metadata": {
        "id": "VNGaSX9Z_Zse"
      },
      "source": [
        "### Stopwords\n",
        "Por otro lado se encontró que el soporte para stopwords en español en NLTK es menos robusto, y a pesar de que la libreria NLTK incluye un conjunto básico de stopwords en español, puede que no sea tan exhaustivo como el conjunto en inglés. Por lo tanto, a menudo es necesario recurrir a listas personalizadas. Por esta razón es que a la hora importar stopwords en el idioma de español se obtuvo un listado descargado de una fuentes de internet \"spanish-stop-words.txt\". obtenido de: https://gist.github.com/cr0wg4n/78554c5d0afa9944d2fa3a4435d83a57."
      ]
    },
    {
      "cell_type": "code",
      "execution_count": null,
      "metadata": {
        "id": "TtTXZmIA_Zsf",
        "outputId": "4450825a-36cd-4092-ff29-007c73257037"
      },
      "outputs": [
        {
          "name": "stdout",
          "output_type": "stream",
          "text": [
            "             a\n",
            "0  actualmente\n",
            "1     adelante\n",
            "2       además\n",
            "3       afirmó\n",
            "4       agregó\n"
          ]
        }
      ],
      "source": [
        "\n",
        "data = pd.read_csv(\"spanish-stop-words.txt\")\n",
        "print(data.head(5))"
      ]
    },
    {
      "cell_type": "markdown",
      "metadata": {
        "id": "ezkGhK3T_Zsf"
      },
      "source": [
        "### Encontrar bases de datos\n",
        "\n",
        "Se observó como en el idioma Inglés NLTK incluye una amplia gama de corpus y datos lingüísticos en inglés, como el corpus de películas, siendo estos datos bien documentados y extensos. Mientras que en Español Los corpus disponibles para el español en NLTK son menos variados y extensos. Puede que se necesiten recursos externos o personalizados para obtener datos lingüísticos completos para análisis en español."
      ]
    },
    {
      "cell_type": "markdown",
      "metadata": {
        "id": "SVTgQCW2_Zsf"
      },
      "source": [
        "### Preprocesamiento de texto\n",
        "\n",
        "Las funciones de preprocesamiento en NLTK están bien adaptadas para el inglés, manejando aspectos como la tokenización, la normalización y la eliminación de puntuación de manera efectiva.\n",
        "No obstante, en Español aunque NLTK ofrece herramientas básicas para el preprocesamiento en español, las diferencias gramaticales y ortográficas del español pueden requerir ajustes adicionales en el procesamiento de texto para obtener resultados óptimos."
      ]
    },
    {
      "cell_type": "markdown",
      "metadata": {
        "id": "lHgkllhF_Zsf"
      },
      "source": [
        "### Estrategias para lograr procesar el conjunto de datos\n",
        "\n",
        "---"
      ]
    },
    {
      "cell_type": "markdown",
      "metadata": {
        "id": "kzj_O4xm_Zsf"
      },
      "source": [
        "#### Workers\n",
        "\n",
        "Para identificar la cantidad de workers se optó por mirar la capacidad de núcleos de CPU disponibles en mi computadora. Para ello entré en Administrador de tarea -> Rendimiento y actualmente cuento con 8 núcleos, tambien lo verifiqué utilizando el código cpu_count():"
      ]
    },
    {
      "cell_type": "code",
      "execution_count": null,
      "metadata": {
        "id": "Jefv_Hzo_Zsf",
        "outputId": "c195e3b0-87fe-4610-9f57-c86a1e9100bc"
      },
      "outputs": [
        {
          "data": {
            "text/plain": [
              "8"
            ]
          },
          "execution_count": 140,
          "metadata": {},
          "output_type": "execute_result"
        }
      ],
      "source": [
        "from dask.distributed import Client, LocalCluster\n",
        "import os\n",
        "# Verifica el número de núcleos de CPU disponibles\n",
        "num_cpus = os.cpu_count()\n",
        "num_cpus"
      ]
    },
    {
      "cell_type": "markdown",
      "metadata": {
        "id": "Qn53UY8L_Zsf"
      },
      "source": [
        "\n",
        "Dado que mi máquina cuenta con 8 núcleos, he decidido configurar un número de workers menor para dejar algo de capacidad disponible para otras tareas del sistema. La base de datos con la que estoy trabajando no es muy pesada, por lo que opté por utilizar 2 workers, lo que debería ser suficiente para manejar la carga sin saturar los recursos.\n",
        "\n",
        "#### Configuración de Threads por Worker\n",
        "\n",
        "Cada worker puede manejar múltiples tareas simultáneamente utilizando hilos de ejecución (threads). Para esta configuración, he decidido utilizar `threads_per_worker=4`, lo que permitirá que cada worker gestione varias operaciones de I/O al mismo tiempo. Esta configuración es especialmente útil dado que las tareas que estoy ejecutando son más orientadas a I/O, beneficiándose del paralelismo que ofrecen los threads.\n",
        "\n",
        "#### Uso de `processes=False`\n",
        "\n",
        "Debido a la naturaleza ligera de las tareas y el tamaño manejable de la base de datos, he optado por establecer `processes=False`. Esto significa que los workers se ejecutarán como hilos dentro de un solo proceso, lo que ayuda a reducir la sobrecarga de memoria y es una buena opción para operaciones menos intensivas en CPU.\n",
        "\n",
        "#### Límite de Memoria (`memory_limit`)\n",
        "\n",
        "Dado que estoy trabajando con 2 workers y tengo 16 GB de RAM disponibles, cada worker puede utilizar hasta 8 GB de memoria. Esto se logra dividiendo la memoria total entre el número de workers, lo que asegura que cada worker tenga suficiente espacio para operar eficientemente sin agotar los recursos del sistema.\n",
        "\n",
        "```python\n",
        "client = Client(n_workers=2, threads_per_worker=4, processes=False, memory_limit='8GB')\n",
        "client\n"
      ]
    }
  ],
  "metadata": {
    "kernelspec": {
      "display_name": "guia502",
      "language": "python",
      "name": "python3"
    },
    "language_info": {
      "codemirror_mode": {
        "name": "ipython",
        "version": 3
      },
      "file_extension": ".py",
      "mimetype": "text/x-python",
      "name": "python",
      "nbconvert_exporter": "python",
      "pygments_lexer": "ipython3",
      "version": "3.12.4"
    },
    "colab": {
      "provenance": [],
      "include_colab_link": true
    }
  },
  "nbformat": 4,
  "nbformat_minor": 0
}