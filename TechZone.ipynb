{
  "nbformat": 4,
  "nbformat_minor": 0,
  "metadata": {
    "colab": {
      "provenance": [],
      "include_colab_link": true
    },
    "kernelspec": {
      "name": "python3",
      "display_name": "Python 3"
    },
    "language_info": {
      "name": "python"
    }
  },
  "cells": [
    {
      "cell_type": "markdown",
      "metadata": {
        "id": "view-in-github",
        "colab_type": "text"
      },
      "source": [
        "<a href=\"https://colab.research.google.com/github/AlejandraMatajira/Mi-repositorio-/blob/main/TechZone.ipynb\" target=\"_parent\"><img src=\"https://colab.research.google.com/assets/colab-badge.svg\" alt=\"Open In Colab\"/></a>"
      ]
    },
    {
      "cell_type": "code",
      "source": [
        "import pandas as pd\n",
        "import numpy as np"
      ],
      "metadata": {
        "id": "6mXSMwRhO9wi"
      },
      "execution_count": null,
      "outputs": []
    },
    {
      "cell_type": "code",
      "execution_count": null,
      "metadata": {
        "colab": {
          "base_uri": "https://localhost:8080/"
        },
        "id": "bic7IO0ON1oc",
        "outputId": "2bb3a929-b048-4815-b168-4fb402129c58"
      },
      "outputs": [
        {
          "output_type": "stream",
          "name": "stdout",
          "text": [
            "Mounted at /content/drive\n"
          ]
        }
      ],
      "source": [
        "from google.colab import drive\n",
        "\n",
        "drive.mount('/content/drive')"
      ]
    },
    {
      "cell_type": "code",
      "source": [
        "file_name = '/content/drive/MyDrive/Analitica de Datos 2023/ventas (1).csv'\n",
        "df = pd.read_csv(file_name)\n",
        "df"
      ],
      "metadata": {
        "colab": {
          "base_uri": "https://localhost:8080/",
          "height": 424
        },
        "id": "EEoboo6xQNyc",
        "outputId": "18a5cfd6-9073-4448-ffeb-d7969eb938d1"
      },
      "execution_count": null,
      "outputs": [
        {
          "output_type": "execute_result",
          "data": {
            "text/plain": [
              "      Unnamed: 0       Fecha  Producto  Cantidad  Precio_Unitario  Descuento  \\\n",
              "0              0  2022-01-01   Tableta         4              114       0.15   \n",
              "1              1  2022-01-02    Laptop         3              835        NaN   \n",
              "2              2  2022-01-03   Tableta         4              672       0.15   \n",
              "3              3  2022-01-04   Tableta         7              221        NaN   \n",
              "4              4  2022-01-05    Laptop         1              376       0.05   \n",
              "...          ...         ...       ...       ...              ...        ...   \n",
              "1805        1805  2026-12-11  Telefono         6              878       0.05   \n",
              "1806        1806  2026-12-12   Tableta         1              207       0.10   \n",
              "1807        1807  2026-12-13  Telefono         2              943       0.05   \n",
              "1808        1808  2026-12-14  Telefono         6              701        NaN   \n",
              "1809        1809  2026-12-15  Telefono         2              816       0.10   \n",
              "\n",
              "      Total Vendedor Ubicación Forma_Pago     Estado  \n",
              "0      4935   Carlos  En linea   Efectivo   Completo  \n",
              "1      3144     Juan     Local        NaN  Cancelado  \n",
              "2      1545    Maria  En linea    Tarjeta  Pendiente  \n",
              "3      4056    Maria  En linea    Tarjeta  Cancelado  \n",
              "4      3181   Carlos     Local   Efectivo  Pendiente  \n",
              "...     ...      ...       ...        ...        ...  \n",
              "1805   1420   Carlos  En linea        NaN   Completo  \n",
              "1806   1188    Maria  En linea    Tarjeta  Cancelado  \n",
              "1807   4772    Maria     Local   Efectivo  Pendiente  \n",
              "1808   1969     Juan     Local        NaN   Completo  \n",
              "1809   4759   Carlos     Local   Efectivo  Cancelado  \n",
              "\n",
              "[1810 rows x 11 columns]"
            ],
            "text/html": [
              "\n",
              "  <div id=\"df-21fc6ee4-22f4-40d2-bb8c-b4423b3d8b4c\" class=\"colab-df-container\">\n",
              "    <div>\n",
              "<style scoped>\n",
              "    .dataframe tbody tr th:only-of-type {\n",
              "        vertical-align: middle;\n",
              "    }\n",
              "\n",
              "    .dataframe tbody tr th {\n",
              "        vertical-align: top;\n",
              "    }\n",
              "\n",
              "    .dataframe thead th {\n",
              "        text-align: right;\n",
              "    }\n",
              "</style>\n",
              "<table border=\"1\" class=\"dataframe\">\n",
              "  <thead>\n",
              "    <tr style=\"text-align: right;\">\n",
              "      <th></th>\n",
              "      <th>Unnamed: 0</th>\n",
              "      <th>Fecha</th>\n",
              "      <th>Producto</th>\n",
              "      <th>Cantidad</th>\n",
              "      <th>Precio_Unitario</th>\n",
              "      <th>Descuento</th>\n",
              "      <th>Total</th>\n",
              "      <th>Vendedor</th>\n",
              "      <th>Ubicación</th>\n",
              "      <th>Forma_Pago</th>\n",
              "      <th>Estado</th>\n",
              "    </tr>\n",
              "  </thead>\n",
              "  <tbody>\n",
              "    <tr>\n",
              "      <th>0</th>\n",
              "      <td>0</td>\n",
              "      <td>2022-01-01</td>\n",
              "      <td>Tableta</td>\n",
              "      <td>4</td>\n",
              "      <td>114</td>\n",
              "      <td>0.15</td>\n",
              "      <td>4935</td>\n",
              "      <td>Carlos</td>\n",
              "      <td>En linea</td>\n",
              "      <td>Efectivo</td>\n",
              "      <td>Completo</td>\n",
              "    </tr>\n",
              "    <tr>\n",
              "      <th>1</th>\n",
              "      <td>1</td>\n",
              "      <td>2022-01-02</td>\n",
              "      <td>Laptop</td>\n",
              "      <td>3</td>\n",
              "      <td>835</td>\n",
              "      <td>NaN</td>\n",
              "      <td>3144</td>\n",
              "      <td>Juan</td>\n",
              "      <td>Local</td>\n",
              "      <td>NaN</td>\n",
              "      <td>Cancelado</td>\n",
              "    </tr>\n",
              "    <tr>\n",
              "      <th>2</th>\n",
              "      <td>2</td>\n",
              "      <td>2022-01-03</td>\n",
              "      <td>Tableta</td>\n",
              "      <td>4</td>\n",
              "      <td>672</td>\n",
              "      <td>0.15</td>\n",
              "      <td>1545</td>\n",
              "      <td>Maria</td>\n",
              "      <td>En linea</td>\n",
              "      <td>Tarjeta</td>\n",
              "      <td>Pendiente</td>\n",
              "    </tr>\n",
              "    <tr>\n",
              "      <th>3</th>\n",
              "      <td>3</td>\n",
              "      <td>2022-01-04</td>\n",
              "      <td>Tableta</td>\n",
              "      <td>7</td>\n",
              "      <td>221</td>\n",
              "      <td>NaN</td>\n",
              "      <td>4056</td>\n",
              "      <td>Maria</td>\n",
              "      <td>En linea</td>\n",
              "      <td>Tarjeta</td>\n",
              "      <td>Cancelado</td>\n",
              "    </tr>\n",
              "    <tr>\n",
              "      <th>4</th>\n",
              "      <td>4</td>\n",
              "      <td>2022-01-05</td>\n",
              "      <td>Laptop</td>\n",
              "      <td>1</td>\n",
              "      <td>376</td>\n",
              "      <td>0.05</td>\n",
              "      <td>3181</td>\n",
              "      <td>Carlos</td>\n",
              "      <td>Local</td>\n",
              "      <td>Efectivo</td>\n",
              "      <td>Pendiente</td>\n",
              "    </tr>\n",
              "    <tr>\n",
              "      <th>...</th>\n",
              "      <td>...</td>\n",
              "      <td>...</td>\n",
              "      <td>...</td>\n",
              "      <td>...</td>\n",
              "      <td>...</td>\n",
              "      <td>...</td>\n",
              "      <td>...</td>\n",
              "      <td>...</td>\n",
              "      <td>...</td>\n",
              "      <td>...</td>\n",
              "      <td>...</td>\n",
              "    </tr>\n",
              "    <tr>\n",
              "      <th>1805</th>\n",
              "      <td>1805</td>\n",
              "      <td>2026-12-11</td>\n",
              "      <td>Telefono</td>\n",
              "      <td>6</td>\n",
              "      <td>878</td>\n",
              "      <td>0.05</td>\n",
              "      <td>1420</td>\n",
              "      <td>Carlos</td>\n",
              "      <td>En linea</td>\n",
              "      <td>NaN</td>\n",
              "      <td>Completo</td>\n",
              "    </tr>\n",
              "    <tr>\n",
              "      <th>1806</th>\n",
              "      <td>1806</td>\n",
              "      <td>2026-12-12</td>\n",
              "      <td>Tableta</td>\n",
              "      <td>1</td>\n",
              "      <td>207</td>\n",
              "      <td>0.10</td>\n",
              "      <td>1188</td>\n",
              "      <td>Maria</td>\n",
              "      <td>En linea</td>\n",
              "      <td>Tarjeta</td>\n",
              "      <td>Cancelado</td>\n",
              "    </tr>\n",
              "    <tr>\n",
              "      <th>1807</th>\n",
              "      <td>1807</td>\n",
              "      <td>2026-12-13</td>\n",
              "      <td>Telefono</td>\n",
              "      <td>2</td>\n",
              "      <td>943</td>\n",
              "      <td>0.05</td>\n",
              "      <td>4772</td>\n",
              "      <td>Maria</td>\n",
              "      <td>Local</td>\n",
              "      <td>Efectivo</td>\n",
              "      <td>Pendiente</td>\n",
              "    </tr>\n",
              "    <tr>\n",
              "      <th>1808</th>\n",
              "      <td>1808</td>\n",
              "      <td>2026-12-14</td>\n",
              "      <td>Telefono</td>\n",
              "      <td>6</td>\n",
              "      <td>701</td>\n",
              "      <td>NaN</td>\n",
              "      <td>1969</td>\n",
              "      <td>Juan</td>\n",
              "      <td>Local</td>\n",
              "      <td>NaN</td>\n",
              "      <td>Completo</td>\n",
              "    </tr>\n",
              "    <tr>\n",
              "      <th>1809</th>\n",
              "      <td>1809</td>\n",
              "      <td>2026-12-15</td>\n",
              "      <td>Telefono</td>\n",
              "      <td>2</td>\n",
              "      <td>816</td>\n",
              "      <td>0.10</td>\n",
              "      <td>4759</td>\n",
              "      <td>Carlos</td>\n",
              "      <td>Local</td>\n",
              "      <td>Efectivo</td>\n",
              "      <td>Cancelado</td>\n",
              "    </tr>\n",
              "  </tbody>\n",
              "</table>\n",
              "<p>1810 rows × 11 columns</p>\n",
              "</div>\n",
              "    <div class=\"colab-df-buttons\">\n",
              "\n",
              "  <div class=\"colab-df-container\">\n",
              "    <button class=\"colab-df-convert\" onclick=\"convertToInteractive('df-21fc6ee4-22f4-40d2-bb8c-b4423b3d8b4c')\"\n",
              "            title=\"Convert this dataframe to an interactive table.\"\n",
              "            style=\"display:none;\">\n",
              "\n",
              "  <svg xmlns=\"http://www.w3.org/2000/svg\" height=\"24px\" viewBox=\"0 -960 960 960\">\n",
              "    <path d=\"M120-120v-720h720v720H120Zm60-500h600v-160H180v160Zm220 220h160v-160H400v160Zm0 220h160v-160H400v160ZM180-400h160v-160H180v160Zm440 0h160v-160H620v160ZM180-180h160v-160H180v160Zm440 0h160v-160H620v160Z\"/>\n",
              "  </svg>\n",
              "    </button>\n",
              "\n",
              "  <style>\n",
              "    .colab-df-container {\n",
              "      display:flex;\n",
              "      gap: 12px;\n",
              "    }\n",
              "\n",
              "    .colab-df-convert {\n",
              "      background-color: #E8F0FE;\n",
              "      border: none;\n",
              "      border-radius: 50%;\n",
              "      cursor: pointer;\n",
              "      display: none;\n",
              "      fill: #1967D2;\n",
              "      height: 32px;\n",
              "      padding: 0 0 0 0;\n",
              "      width: 32px;\n",
              "    }\n",
              "\n",
              "    .colab-df-convert:hover {\n",
              "      background-color: #E2EBFA;\n",
              "      box-shadow: 0px 1px 2px rgba(60, 64, 67, 0.3), 0px 1px 3px 1px rgba(60, 64, 67, 0.15);\n",
              "      fill: #174EA6;\n",
              "    }\n",
              "\n",
              "    .colab-df-buttons div {\n",
              "      margin-bottom: 4px;\n",
              "    }\n",
              "\n",
              "    [theme=dark] .colab-df-convert {\n",
              "      background-color: #3B4455;\n",
              "      fill: #D2E3FC;\n",
              "    }\n",
              "\n",
              "    [theme=dark] .colab-df-convert:hover {\n",
              "      background-color: #434B5C;\n",
              "      box-shadow: 0px 1px 3px 1px rgba(0, 0, 0, 0.15);\n",
              "      filter: drop-shadow(0px 1px 2px rgba(0, 0, 0, 0.3));\n",
              "      fill: #FFFFFF;\n",
              "    }\n",
              "  </style>\n",
              "\n",
              "    <script>\n",
              "      const buttonEl =\n",
              "        document.querySelector('#df-21fc6ee4-22f4-40d2-bb8c-b4423b3d8b4c button.colab-df-convert');\n",
              "      buttonEl.style.display =\n",
              "        google.colab.kernel.accessAllowed ? 'block' : 'none';\n",
              "\n",
              "      async function convertToInteractive(key) {\n",
              "        const element = document.querySelector('#df-21fc6ee4-22f4-40d2-bb8c-b4423b3d8b4c');\n",
              "        const dataTable =\n",
              "          await google.colab.kernel.invokeFunction('convertToInteractive',\n",
              "                                                    [key], {});\n",
              "        if (!dataTable) return;\n",
              "\n",
              "        const docLinkHtml = 'Like what you see? Visit the ' +\n",
              "          '<a target=\"_blank\" href=https://colab.research.google.com/notebooks/data_table.ipynb>data table notebook</a>'\n",
              "          + ' to learn more about interactive tables.';\n",
              "        element.innerHTML = '';\n",
              "        dataTable['output_type'] = 'display_data';\n",
              "        await google.colab.output.renderOutput(dataTable, element);\n",
              "        const docLink = document.createElement('div');\n",
              "        docLink.innerHTML = docLinkHtml;\n",
              "        element.appendChild(docLink);\n",
              "      }\n",
              "    </script>\n",
              "  </div>\n",
              "\n",
              "\n",
              "<div id=\"df-9d60d279-3cbf-437b-a508-3b636a67a774\">\n",
              "  <button class=\"colab-df-quickchart\" onclick=\"quickchart('df-9d60d279-3cbf-437b-a508-3b636a67a774')\"\n",
              "            title=\"Suggest charts.\"\n",
              "            style=\"display:none;\">\n",
              "\n",
              "<svg xmlns=\"http://www.w3.org/2000/svg\" height=\"24px\"viewBox=\"0 0 24 24\"\n",
              "     width=\"24px\">\n",
              "    <g>\n",
              "        <path d=\"M19 3H5c-1.1 0-2 .9-2 2v14c0 1.1.9 2 2 2h14c1.1 0 2-.9 2-2V5c0-1.1-.9-2-2-2zM9 17H7v-7h2v7zm4 0h-2V7h2v10zm4 0h-2v-4h2v4z\"/>\n",
              "    </g>\n",
              "</svg>\n",
              "  </button>\n",
              "\n",
              "<style>\n",
              "  .colab-df-quickchart {\n",
              "    background-color: #E8F0FE;\n",
              "    border: none;\n",
              "    border-radius: 50%;\n",
              "    cursor: pointer;\n",
              "    display: none;\n",
              "    fill: #1967D2;\n",
              "    height: 32px;\n",
              "    padding: 0 0 0 0;\n",
              "    width: 32px;\n",
              "  }\n",
              "\n",
              "  .colab-df-quickchart:hover {\n",
              "    background-color: #E2EBFA;\n",
              "    box-shadow: 0px 1px 2px rgba(60, 64, 67, 0.3), 0px 1px 3px 1px rgba(60, 64, 67, 0.15);\n",
              "    fill: #174EA6;\n",
              "  }\n",
              "\n",
              "  [theme=dark] .colab-df-quickchart {\n",
              "    background-color: #3B4455;\n",
              "    fill: #D2E3FC;\n",
              "  }\n",
              "\n",
              "  [theme=dark] .colab-df-quickchart:hover {\n",
              "    background-color: #434B5C;\n",
              "    box-shadow: 0px 1px 3px 1px rgba(0, 0, 0, 0.15);\n",
              "    filter: drop-shadow(0px 1px 2px rgba(0, 0, 0, 0.3));\n",
              "    fill: #FFFFFF;\n",
              "  }\n",
              "</style>\n",
              "\n",
              "  <script>\n",
              "    async function quickchart(key) {\n",
              "      const charts = await google.colab.kernel.invokeFunction(\n",
              "          'suggestCharts', [key], {});\n",
              "    }\n",
              "    (() => {\n",
              "      let quickchartButtonEl =\n",
              "        document.querySelector('#df-9d60d279-3cbf-437b-a508-3b636a67a774 button');\n",
              "      quickchartButtonEl.style.display =\n",
              "        google.colab.kernel.accessAllowed ? 'block' : 'none';\n",
              "    })();\n",
              "  </script>\n",
              "</div>\n",
              "    </div>\n",
              "  </div>\n"
            ]
          },
          "metadata": {},
          "execution_count": 4
        }
      ]
    },
    {
      "cell_type": "code",
      "source": [
        "df.isnull().sum()"
      ],
      "metadata": {
        "colab": {
          "base_uri": "https://localhost:8080/"
        },
        "id": "xfH0S3F4UWx1",
        "outputId": "b7bfe1e1-63ac-4833-e149-920ccadde10e"
      },
      "execution_count": null,
      "outputs": [
        {
          "output_type": "execute_result",
          "data": {
            "text/plain": [
              "Unnamed: 0           0\n",
              "Fecha                0\n",
              "Producto             0\n",
              "Cantidad             0\n",
              "Precio_Unitario      0\n",
              "Descuento          444\n",
              "Total                0\n",
              "Vendedor             0\n",
              "Ubicación            0\n",
              "Forma_Pago         590\n",
              "Estado               0\n",
              "dtype: int64"
            ]
          },
          "metadata": {},
          "execution_count": 5
        }
      ]
    },
    {
      "cell_type": "code",
      "source": [
        "import seaborn as sns\n",
        "\n",
        "sns.heatmap(df.isnull(), cbar = False)"
      ],
      "metadata": {
        "colab": {
          "base_uri": "https://localhost:8080/",
          "height": 544
        },
        "id": "rYqpnm-KUYoT",
        "outputId": "ced0389f-7f36-4f64-d99e-0ab81f0e7455"
      },
      "execution_count": null,
      "outputs": [
        {
          "output_type": "execute_result",
          "data": {
            "text/plain": [
              "<Axes: >"
            ]
          },
          "metadata": {},
          "execution_count": 6
        },
        {
          "output_type": "display_data",
          "data": {
            "text/plain": [
              "<Figure size 640x480 with 1 Axes>"
            ],
            "image/png": "[encoded data removed]"
          },
          "metadata": {}
        }
      ]
    },
    {
      "cell_type": "code",
      "source": [
        "sns.boxplot(df.Descuento)"
      ],
      "metadata": {
        "colab": {
          "base_uri": "https://localhost:8080/",
          "height": 447
        },
        "id": "-XquK3w9VKtZ",
        "outputId": "236d82ee-28cc-44a6-d4bb-216c81e16a88"
      },
      "execution_count": null,
      "outputs": [
        {
          "output_type": "execute_result",
          "data": {
            "text/plain": [
              "<Axes: >"
            ]
          },
          "metadata": {},
          "execution_count": 7
        },
        {
          "output_type": "display_data",
          "data": {
            "text/plain": [
              "<Figure size 640x480 with 1 Axes>"
            ],
            "image/png": "[encoded data removed]"
          },
          "metadata": {}
        }
      ]
    },
    {
      "cell_type": "code",
      "source": [
        "df['Descuento'].fillna(df['Descuento'].mean(), inplace = True)\n",
        "print(\"Valores perdidos en descuento: \", str(df['Descuento'].isnull().sum()))"
      ],
      "metadata": {
        "colab": {
          "base_uri": "https://localhost:8080/"
        },
        "id": "tJIlZ4AFUj-_",
        "outputId": "05865ca9-5447-4220-8ccb-53702064db30"
      },
      "execution_count": null,
      "outputs": [
        {
          "output_type": "stream",
          "name": "stdout",
          "text": [
            "Valores perdidos en descuento:  0\n"
          ]
        }
      ]
    },
    {
      "cell_type": "code",
      "source": [
        "sns.boxplot(df.Descuento)"
      ],
      "metadata": {
        "colab": {
          "base_uri": "https://localhost:8080/",
          "height": 447
        },
        "id": "sgYBpl9mV79r",
        "outputId": "1f359053-a35f-459d-d38d-60feb1c9a3f8"
      },
      "execution_count": null,
      "outputs": [
        {
          "output_type": "execute_result",
          "data": {
            "text/plain": [
              "<Axes: >"
            ]
          },
          "metadata": {},
          "execution_count": 9
        },
        {
          "output_type": "display_data",
          "data": {
            "text/plain": [
              "<Figure size 640x480 with 1 Axes>"
            ],
            "image/png": "[encoded data removed]"
          },
          "metadata": {}
        }
      ]
    },
    {
      "cell_type": "code",
      "source": [
        "df['Forma_Pago'].mode()\n",
        "df['Forma_Pago'].fillna(df['Forma_Pago'].mode()[0], inplace = True)\n",
        "print(\"Valores perdidos en Forma Pago: \", str(df['Forma_Pago'].isnull().sum()))"
      ],
      "metadata": {
        "colab": {
          "base_uri": "https://localhost:8080/"
        },
        "id": "vxvN0hs5WBbW",
        "outputId": "18c795f1-1f9e-4b93-e24f-4ad44484afff"
      },
      "execution_count": null,
      "outputs": [
        {
          "output_type": "stream",
          "name": "stdout",
          "text": [
            "Valores perdidos en Forma Pago:  0\n"
          ]
        }
      ]
    },
    {
      "cell_type": "code",
      "source": [
        "df.isnull().sum()"
      ],
      "metadata": {
        "colab": {
          "base_uri": "https://localhost:8080/"
        },
        "id": "XGM24z4PWXX2",
        "outputId": "38440ffb-d53a-46e2-8123-80e5f47a63c8"
      },
      "execution_count": null,
      "outputs": [
        {
          "output_type": "execute_result",
          "data": {
            "text/plain": [
              "Unnamed: 0         0\n",
              "Fecha              0\n",
              "Producto           0\n",
              "Cantidad           0\n",
              "Precio_Unitario    0\n",
              "Descuento          0\n",
              "Total              0\n",
              "Vendedor           0\n",
              "Ubicación          0\n",
              "Forma_Pago         0\n",
              "Estado             0\n",
              "dtype: int64"
            ]
          },
          "metadata": {},
          "execution_count": 11
        }
      ]
    },
    {
      "cell_type": "code",
      "source": [
        "print(df.dtypes)"
      ],
      "metadata": {
        "colab": {
          "base_uri": "https://localhost:8080/"
        },
        "id": "CtPPizv1WdN-",
        "outputId": "ff3ae0c7-b6cb-45e0-eab6-0b8ddcec5282"
      },
      "execution_count": null,
      "outputs": [
        {
          "output_type": "stream",
          "name": "stdout",
          "text": [
            "Unnamed: 0           int64\n",
            "Fecha               object\n",
            "Producto            object\n",
            "Cantidad             int64\n",
            "Precio_Unitario      int64\n",
            "Descuento          float64\n",
            "Total                int64\n",
            "Vendedor            object\n",
            "Ubicación           object\n",
            "Forma_Pago          object\n",
            "Estado              object\n",
            "dtype: object\n"
          ]
        }
      ]
    },
    {
      "cell_type": "code",
      "source": [
        "sns.heatmap(df.isnull(), cbar = False)"
      ],
      "metadata": {
        "colab": {
          "base_uri": "https://localhost:8080/",
          "height": 544
        },
        "id": "iFg2NoaKWlhe",
        "outputId": "418210a9-de49-4058-aa20-e095a5707cb2"
      },
      "execution_count": null,
      "outputs": [
        {
          "output_type": "execute_result",
          "data": {
            "text/plain": [
              "<Axes: >"
            ]
          },
          "metadata": {},
          "execution_count": 13
        },
        {
          "output_type": "display_data",
          "data": {
            "text/plain": [
              "<Figure size 640x480 with 1 Axes>"
            ],
            "image/png": "[encoded data removed]"
          },
          "metadata": {}
        }
      ]
    },
    {
      "cell_type": "code",
      "source": [
        "df"
      ],
      "metadata": {
        "id": "cQ3YRTk5W25Z",
        "outputId": "cd153af5-7037-41e3-986c-d8b58f6b5672",
        "colab": {
          "base_uri": "https://localhost:8080/",
          "height": 424
        }
      },
      "execution_count": null,
      "outputs": [
        {
          "output_type": "execute_result",
          "data": {
            "text/plain": [
              "      Unnamed: 0       Fecha  Producto  Cantidad  Precio_Unitario  Descuento  \\\n",
              "0              0  2022-01-01   Tableta         4              114   0.150000   \n",
              "1              1  2022-01-02    Laptop         3              835   0.101977   \n",
              "2              2  2022-01-03   Tableta         4              672   0.150000   \n",
              "3              3  2022-01-04   Tableta         7              221   0.101977   \n",
              "4              4  2022-01-05    Laptop         1              376   0.050000   \n",
              "...          ...         ...       ...       ...              ...        ...   \n",
              "1805        1805  2026-12-11  Telefono         6              878   0.050000   \n",
              "1806        1806  2026-12-12   Tableta         1              207   0.100000   \n",
              "1807        1807  2026-12-13  Telefono         2              943   0.050000   \n",
              "1808        1808  2026-12-14  Telefono         6              701   0.101977   \n",
              "1809        1809  2026-12-15  Telefono         2              816   0.100000   \n",
              "\n",
              "      Total Vendedor Ubicación Forma_Pago     Estado  \n",
              "0      4935   Carlos  En linea   Efectivo   Completo  \n",
              "1      3144     Juan     Local    Tarjeta  Cancelado  \n",
              "2      1545    Maria  En linea    Tarjeta  Pendiente  \n",
              "3      4056    Maria  En linea    Tarjeta  Cancelado  \n",
              "4      3181   Carlos     Local   Efectivo  Pendiente  \n",
              "...     ...      ...       ...        ...        ...  \n",
              "1805   1420   Carlos  En linea    Tarjeta   Completo  \n",
              "1806   1188    Maria  En linea    Tarjeta  Cancelado  \n",
              "1807   4772    Maria     Local   Efectivo  Pendiente  \n",
              "1808   1969     Juan     Local    Tarjeta   Completo  \n",
              "1809   4759   Carlos     Local   Efectivo  Cancelado  \n",
              "\n",
              "[1810 rows x 11 columns]"
            ],
            "text/html": [
              "\n",
              "  <div id=\"df-a940092d-5ae1-4328-ae5c-aede22a71ca2\" class=\"colab-df-container\">\n",
              "    <div>\n",
              "<style scoped>\n",
              "    .dataframe tbody tr th:only-of-type {\n",
              "        vertical-align: middle;\n",
              "    }\n",
              "\n",
              "    .dataframe tbody tr th {\n",
              "        vertical-align: top;\n",
              "    }\n",
              "\n",
              "    .dataframe thead th {\n",
              "        text-align: right;\n",
              "    }\n",
              "</style>\n",
              "<table border=\"1\" class=\"dataframe\">\n",
              "  <thead>\n",
              "    <tr style=\"text-align: right;\">\n",
              "      <th></th>\n",
              "      <th>Unnamed: 0</th>\n",
              "      <th>Fecha</th>\n",
              "      <th>Producto</th>\n",
              "      <th>Cantidad</th>\n",
              "      <th>Precio_Unitario</th>\n",
              "      <th>Descuento</th>\n",
              "      <th>Total</th>\n",
              "      <th>Vendedor</th>\n",
              "      <th>Ubicación</th>\n",
              "      <th>Forma_Pago</th>\n",
              "      <th>Estado</th>\n",
              "    </tr>\n",
              "  </thead>\n",
              "  <tbody>\n",
              "    <tr>\n",
              "      <th>0</th>\n",
              "      <td>0</td>\n",
              "      <td>2022-01-01</td>\n",
              "      <td>Tableta</td>\n",
              "      <td>4</td>\n",
              "      <td>114</td>\n",
              "      <td>0.150000</td>\n",
              "      <td>4935</td>\n",
              "      <td>Carlos</td>\n",
              "      <td>En linea</td>\n",
              "      <td>Efectivo</td>\n",
              "      <td>Completo</td>\n",
              "    </tr>\n",
              "    <tr>\n",
              "      <th>1</th>\n",
              "      <td>1</td>\n",
              "      <td>2022-01-02</td>\n",
              "      <td>Laptop</td>\n",
              "      <td>3</td>\n",
              "      <td>835</td>\n",
              "      <td>0.101977</td>\n",
              "      <td>3144</td>\n",
              "      <td>Juan</td>\n",
              "      <td>Local</td>\n",
              "      <td>Tarjeta</td>\n",
              "      <td>Cancelado</td>\n",
              "    </tr>\n",
              "    <tr>\n",
              "      <th>2</th>\n",
              "      <td>2</td>\n",
              "      <td>2022-01-03</td>\n",
              "      <td>Tableta</td>\n",
              "      <td>4</td>\n",
              "      <td>672</td>\n",
              "      <td>0.150000</td>\n",
              "      <td>1545</td>\n",
              "      <td>Maria</td>\n",
              "      <td>En linea</td>\n",
              "      <td>Tarjeta</td>\n",
              "      <td>Pendiente</td>\n",
              "    </tr>\n",
              "    <tr>\n",
              "      <th>3</th>\n",
              "      <td>3</td>\n",
              "      <td>2022-01-04</td>\n",
              "      <td>Tableta</td>\n",
              "      <td>7</td>\n",
              "      <td>221</td>\n",
              "      <td>0.101977</td>\n",
              "      <td>4056</td>\n",
              "      <td>Maria</td>\n",
              "      <td>En linea</td>\n",
              "      <td>Tarjeta</td>\n",
              "      <td>Cancelado</td>\n",
              "    </tr>\n",
              "    <tr>\n",
              "      <th>4</th>\n",
              "      <td>4</td>\n",
              "      <td>2022-01-05</td>\n",
              "      <td>Laptop</td>\n",
              "      <td>1</td>\n",
              "      <td>376</td>\n",
              "      <td>0.050000</td>\n",
              "      <td>3181</td>\n",
              "      <td>Carlos</td>\n",
              "      <td>Local</td>\n",
              "      <td>Efectivo</td>\n",
              "      <td>Pendiente</td>\n",
              "    </tr>\n",
              "    <tr>\n",
              "      <th>...</th>\n",
              "      <td>...</td>\n",
              "      <td>...</td>\n",
              "      <td>...</td>\n",
              "      <td>...</td>\n",
              "      <td>...</td>\n",
              "      <td>...</td>\n",
              "      <td>...</td>\n",
              "      <td>...</td>\n",
              "      <td>...</td>\n",
              "      <td>...</td>\n",
              "      <td>...</td>\n",
              "    </tr>\n",
              "    <tr>\n",
              "      <th>1805</th>\n",
              "      <td>1805</td>\n",
              "      <td>2026-12-11</td>\n",
              "      <td>Telefono</td>\n",
              "      <td>6</td>\n",
              "      <td>878</td>\n",
              "      <td>0.050000</td>\n",
              "      <td>1420</td>\n",
              "      <td>Carlos</td>\n",
              "      <td>En linea</td>\n",
              "      <td>Tarjeta</td>\n",
              "      <td>Completo</td>\n",
              "    </tr>\n",
              "    <tr>\n",
              "      <th>1806</th>\n",
              "      <td>1806</td>\n",
              "      <td>2026-12-12</td>\n",
              "      <td>Tableta</td>\n",
              "      <td>1</td>\n",
              "      <td>207</td>\n",
              "      <td>0.100000</td>\n",
              "      <td>1188</td>\n",
              "      <td>Maria</td>\n",
              "      <td>En linea</td>\n",
              "      <td>Tarjeta</td>\n",
              "      <td>Cancelado</td>\n",
              "    </tr>\n",
              "    <tr>\n",
              "      <th>1807</th>\n",
              "      <td>1807</td>\n",
              "      <td>2026-12-13</td>\n",
              "      <td>Telefono</td>\n",
              "      <td>2</td>\n",
              "      <td>943</td>\n",
              "      <td>0.050000</td>\n",
              "      <td>4772</td>\n",
              "      <td>Maria</td>\n",
              "      <td>Local</td>\n",
              "      <td>Efectivo</td>\n",
              "      <td>Pendiente</td>\n",
              "    </tr>\n",
              "    <tr>\n",
              "      <th>1808</th>\n",
              "      <td>1808</td>\n",
              "      <td>2026-12-14</td>\n",
              "      <td>Telefono</td>\n",
              "      <td>6</td>\n",
              "      <td>701</td>\n",
              "      <td>0.101977</td>\n",
              "      <td>1969</td>\n",
              "      <td>Juan</td>\n",
              "      <td>Local</td>\n",
              "      <td>Tarjeta</td>\n",
              "      <td>Completo</td>\n",
              "    </tr>\n",
              "    <tr>\n",
              "      <th>1809</th>\n",
              "      <td>1809</td>\n",
              "      <td>2026-12-15</td>\n",
              "      <td>Telefono</td>\n",
              "      <td>2</td>\n",
              "      <td>816</td>\n",
              "      <td>0.100000</td>\n",
              "      <td>4759</td>\n",
              "      <td>Carlos</td>\n",
              "      <td>Local</td>\n",
              "      <td>Efectivo</td>\n",
              "      <td>Cancelado</td>\n",
              "    </tr>\n",
              "  </tbody>\n",
              "</table>\n",
              "<p>1810 rows × 11 columns</p>\n",
              "</div>\n",
              "    <div class=\"colab-df-buttons\">\n",
              "\n",
              "  <div class=\"colab-df-container\">\n",
              "    <button class=\"colab-df-convert\" onclick=\"convertToInteractive('df-a940092d-5ae1-4328-ae5c-aede22a71ca2')\"\n",
              "            title=\"Convert this dataframe to an interactive table.\"\n",
              "            style=\"display:none;\">\n",
              "\n",
              "  <svg xmlns=\"http://www.w3.org/2000/svg\" height=\"24px\" viewBox=\"0 -960 960 960\">\n",
              "    <path d=\"M120-120v-720h720v720H120Zm60-500h600v-160H180v160Zm220 220h160v-160H400v160Zm0 220h160v-160H400v160ZM180-400h160v-160H180v160Zm440 0h160v-160H620v160ZM180-180h160v-160H180v160Zm440 0h160v-160H620v160Z\"/>\n",
              "  </svg>\n",
              "    </button>\n",
              "\n",
              "  <style>\n",
              "    .colab-df-container {\n",
              "      display:flex;\n",
              "      gap: 12px;\n",
              "    }\n",
              "\n",
              "    .colab-df-convert {\n",
              "      background-color: #E8F0FE;\n",
              "      border: none;\n",
              "      border-radius: 50%;\n",
              "      cursor: pointer;\n",
              "      display: none;\n",
              "      fill: #1967D2;\n",
              "      height: 32px;\n",
              "      padding: 0 0 0 0;\n",
              "      width: 32px;\n",
              "    }\n",
              "\n",
              "    .colab-df-convert:hover {\n",
              "      background-color: #E2EBFA;\n",
              "      box-shadow: 0px 1px 2px rgba(60, 64, 67, 0.3), 0px 1px 3px 1px rgba(60, 64, 67, 0.15);\n",
              "      fill: #174EA6;\n",
              "    }\n",
              "\n",
              "    .colab-df-buttons div {\n",
              "      margin-bottom: 4px;\n",
              "    }\n",
              "\n",
              "    [theme=dark] .colab-df-convert {\n",
              "      background-color: #3B4455;\n",
              "      fill: #D2E3FC;\n",
              "    }\n",
              "\n",
              "    [theme=dark] .colab-df-convert:hover {\n",
              "      background-color: #434B5C;\n",
              "      box-shadow: 0px 1px 3px 1px rgba(0, 0, 0, 0.15);\n",
              "      filter: drop-shadow(0px 1px 2px rgba(0, 0, 0, 0.3));\n",
              "      fill: #FFFFFF;\n",
              "    }\n",
              "  </style>\n",
              "\n",
              "    <script>\n",
              "      const buttonEl =\n",
              "        document.querySelector('#df-a940092d-5ae1-4328-ae5c-aede22a71ca2 button.colab-df-convert');\n",
              "      buttonEl.style.display =\n",
              "        google.colab.kernel.accessAllowed ? 'block' : 'none';\n",
              "\n",
              "      async function convertToInteractive(key) {\n",
              "        const element = document.querySelector('#df-a940092d-5ae1-4328-ae5c-aede22a71ca2');\n",
              "        const dataTable =\n",
              "          await google.colab.kernel.invokeFunction('convertToInteractive',\n",
              "                                                    [key], {});\n",
              "        if (!dataTable) return;\n",
              "\n",
              "        const docLinkHtml = 'Like what you see? Visit the ' +\n",
              "          '<a target=\"_blank\" href=https://colab.research.google.com/notebooks/data_table.ipynb>data table notebook</a>'\n",
              "          + ' to learn more about interactive tables.';\n",
              "        element.innerHTML = '';\n",
              "        dataTable['output_type'] = 'display_data';\n",
              "        await google.colab.output.renderOutput(dataTable, element);\n",
              "        const docLink = document.createElement('div');\n",
              "        docLink.innerHTML = docLinkHtml;\n",
              "        element.appendChild(docLink);\n",
              "      }\n",
              "    </script>\n",
              "  </div>\n",
              "\n",
              "\n",
              "<div id=\"df-efc3c2da-1448-4dba-a138-f77febbf2e09\">\n",
              "  <button class=\"colab-df-quickchart\" onclick=\"quickchart('df-efc3c2da-1448-4dba-a138-f77febbf2e09')\"\n",
              "            title=\"Suggest charts.\"\n",
              "            style=\"display:none;\">\n",
              "\n",
              "<svg xmlns=\"http://www.w3.org/2000/svg\" height=\"24px\"viewBox=\"0 0 24 24\"\n",
              "     width=\"24px\">\n",
              "    <g>\n",
              "        <path d=\"M19 3H5c-1.1 0-2 .9-2 2v14c0 1.1.9 2 2 2h14c1.1 0 2-.9 2-2V5c0-1.1-.9-2-2-2zM9 17H7v-7h2v7zm4 0h-2V7h2v10zm4 0h-2v-4h2v4z\"/>\n",
              "    </g>\n",
              "</svg>\n",
              "  </button>\n",
              "\n",
              "<style>\n",
              "  .colab-df-quickchart {\n",
              "    background-color: #E8F0FE;\n",
              "    border: none;\n",
              "    border-radius: 50%;\n",
              "    cursor: pointer;\n",
              "    display: none;\n",
              "    fill: #1967D2;\n",
              "    height: 32px;\n",
              "    padding: 0 0 0 0;\n",
              "    width: 32px;\n",
              "  }\n",
              "\n",
              "  .colab-df-quickchart:hover {\n",
              "    background-color: #E2EBFA;\n",
              "    box-shadow: 0px 1px 2px rgba(60, 64, 67, 0.3), 0px 1px 3px 1px rgba(60, 64, 67, 0.15);\n",
              "    fill: #174EA6;\n",
              "  }\n",
              "\n",
              "  [theme=dark] .colab-df-quickchart {\n",
              "    background-color: #3B4455;\n",
              "    fill: #D2E3FC;\n",
              "  }\n",
              "\n",
              "  [theme=dark] .colab-df-quickchart:hover {\n",
              "    background-color: #434B5C;\n",
              "    box-shadow: 0px 1px 3px 1px rgba(0, 0, 0, 0.15);\n",
              "    filter: drop-shadow(0px 1px 2px rgba(0, 0, 0, 0.3));\n",
              "    fill: #FFFFFF;\n",
              "  }\n",
              "</style>\n",
              "\n",
              "  <script>\n",
              "    async function quickchart(key) {\n",
              "      const charts = await google.colab.kernel.invokeFunction(\n",
              "          'suggestCharts', [key], {});\n",
              "    }\n",
              "    (() => {\n",
              "      let quickchartButtonEl =\n",
              "        document.querySelector('#df-efc3c2da-1448-4dba-a138-f77febbf2e09 button');\n",
              "      quickchartButtonEl.style.display =\n",
              "        google.colab.kernel.accessAllowed ? 'block' : 'none';\n",
              "    })();\n",
              "  </script>\n",
              "</div>\n",
              "    </div>\n",
              "  </div>\n"
            ]
          },
          "metadata": {},
          "execution_count": 14
        }
      ]
    },
    {
      "cell_type": "markdown",
      "source": [
        "# 1. Análisis de ventas"
      ],
      "metadata": {
        "id": "HlA9yLfr3qO6"
      }
    },
    {
      "cell_type": "markdown",
      "source": [
        "Calcula el total de ventas para cada producto (suma de la columna ”Total”) y muestra los resultados en orden descendente."
      ],
      "metadata": {
        "id": "3D447eSw3twL"
      }
    },
    {
      "cell_type": "code",
      "source": [
        "ventas_por_producto = df.groupby('Producto')['Total'].sum().reset_index()\n",
        "ventas_por_producto = ventas_por_producto.sort_values(by='Total', ascending=False)\n",
        "ventas_por_producto"
      ],
      "metadata": {
        "colab": {
          "base_uri": "https://localhost:8080/",
          "height": 143
        },
        "id": "QTS9rPqm3wu3",
        "outputId": "bcb4c3dd-b4b9-439c-d5a7-b465a3d5b87e"
      },
      "execution_count": null,
      "outputs": [
        {
          "output_type": "execute_result",
          "data": {
            "text/plain": [
              "   Producto    Total\n",
              "0    Laptop  1741064\n",
              "2  Telefono  1625860\n",
              "1   Tableta  1576201"
            ],
            "text/html": [
              "\n",
              "  <div id=\"df-250e9562-88a8-4382-974f-0928512ba75b\" class=\"colab-df-container\">\n",
              "    <div>\n",
              "<style scoped>\n",
              "    .dataframe tbody tr th:only-of-type {\n",
              "        vertical-align: middle;\n",
              "    }\n",
              "\n",
              "    .dataframe tbody tr th {\n",
              "        vertical-align: top;\n",
              "    }\n",
              "\n",
              "    .dataframe thead th {\n",
              "        text-align: right;\n",
              "    }\n",
              "</style>\n",
              "<table border=\"1\" class=\"dataframe\">\n",
              "  <thead>\n",
              "    <tr style=\"text-align: right;\">\n",
              "      <th></th>\n",
              "      <th>Producto</th>\n",
              "      <th>Total</th>\n",
              "    </tr>\n",
              "  </thead>\n",
              "  <tbody>\n",
              "    <tr>\n",
              "      <th>0</th>\n",
              "      <td>Laptop</td>\n",
              "      <td>1741064</td>\n",
              "    </tr>\n",
              "    <tr>\n",
              "      <th>2</th>\n",
              "      <td>Telefono</td>\n",
              "      <td>1625860</td>\n",
              "    </tr>\n",
              "    <tr>\n",
              "      <th>1</th>\n",
              "      <td>Tableta</td>\n",
              "      <td>1576201</td>\n",
              "    </tr>\n",
              "  </tbody>\n",
              "</table>\n",
              "</div>\n",
              "    <div class=\"colab-df-buttons\">\n",
              "\n",
              "  <div class=\"colab-df-container\">\n",
              "    <button class=\"colab-df-convert\" onclick=\"convertToInteractive('df-250e9562-88a8-4382-974f-0928512ba75b')\"\n",
              "            title=\"Convert this dataframe to an interactive table.\"\n",
              "            style=\"display:none;\">\n",
              "\n",
              "  <svg xmlns=\"http://www.w3.org/2000/svg\" height=\"24px\" viewBox=\"0 -960 960 960\">\n",
              "    <path d=\"M120-120v-720h720v720H120Zm60-500h600v-160H180v160Zm220 220h160v-160H400v160Zm0 220h160v-160H400v160ZM180-400h160v-160H180v160Zm440 0h160v-160H620v160ZM180-180h160v-160H180v160Zm440 0h160v-160H620v160Z\"/>\n",
              "  </svg>\n",
              "    </button>\n",
              "\n",
              "  <style>\n",
              "    .colab-df-container {\n",
              "      display:flex;\n",
              "      gap: 12px;\n",
              "    }\n",
              "\n",
              "    .colab-df-convert {\n",
              "      background-color: #E8F0FE;\n",
              "      border: none;\n",
              "      border-radius: 50%;\n",
              "      cursor: pointer;\n",
              "      display: none;\n",
              "      fill: #1967D2;\n",
              "      height: 32px;\n",
              "      padding: 0 0 0 0;\n",
              "      width: 32px;\n",
              "    }\n",
              "\n",
              "    .colab-df-convert:hover {\n",
              "      background-color: #E2EBFA;\n",
              "      box-shadow: 0px 1px 2px rgba(60, 64, 67, 0.3), 0px 1px 3px 1px rgba(60, 64, 67, 0.15);\n",
              "      fill: #174EA6;\n",
              "    }\n",
              "\n",
              "    .colab-df-buttons div {\n",
              "      margin-bottom: 4px;\n",
              "    }\n",
              "\n",
              "    [theme=dark] .colab-df-convert {\n",
              "      background-color: #3B4455;\n",
              "      fill: #D2E3FC;\n",
              "    }\n",
              "\n",
              "    [theme=dark] .colab-df-convert:hover {\n",
              "      background-color: #434B5C;\n",
              "      box-shadow: 0px 1px 3px 1px rgba(0, 0, 0, 0.15);\n",
              "      filter: drop-shadow(0px 1px 2px rgba(0, 0, 0, 0.3));\n",
              "      fill: #FFFFFF;\n",
              "    }\n",
              "  </style>\n",
              "\n",
              "    <script>\n",
              "      const buttonEl =\n",
              "        document.querySelector('#df-250e9562-88a8-4382-974f-0928512ba75b button.colab-df-convert');\n",
              "      buttonEl.style.display =\n",
              "        google.colab.kernel.accessAllowed ? 'block' : 'none';\n",
              "\n",
              "      async function convertToInteractive(key) {\n",
              "        const element = document.querySelector('#df-250e9562-88a8-4382-974f-0928512ba75b');\n",
              "        const dataTable =\n",
              "          await google.colab.kernel.invokeFunction('convertToInteractive',\n",
              "                                                    [key], {});\n",
              "        if (!dataTable) return;\n",
              "\n",
              "        const docLinkHtml = 'Like what you see? Visit the ' +\n",
              "          '<a target=\"_blank\" href=https://colab.research.google.com/notebooks/data_table.ipynb>data table notebook</a>'\n",
              "          + ' to learn more about interactive tables.';\n",
              "        element.innerHTML = '';\n",
              "        dataTable['output_type'] = 'display_data';\n",
              "        await google.colab.output.renderOutput(dataTable, element);\n",
              "        const docLink = document.createElement('div');\n",
              "        docLink.innerHTML = docLinkHtml;\n",
              "        element.appendChild(docLink);\n",
              "      }\n",
              "    </script>\n",
              "  </div>\n",
              "\n",
              "    </div>\n",
              "  </div>\n"
            ]
          },
          "metadata": {},
          "execution_count": 15
        }
      ]
    },
    {
      "cell_type": "markdown",
      "source": [
        "Encuentra el producto más vendido y el producto menos vendido.\n"
      ],
      "metadata": {
        "id": "VMHnwGne3_Qs"
      }
    },
    {
      "cell_type": "code",
      "source": [
        "productos_vendidos = df.groupby('Producto')['Cantidad'].sum().reset_index()\n",
        "producto_mas_vendido = productos_vendidos.sort_values(by='Cantidad', ascending=False).iloc[0]\n",
        "producto_mas_vendido\n"
      ],
      "metadata": {
        "colab": {
          "base_uri": "https://localhost:8080/"
        },
        "id": "ZIvWXDxi4Ea5",
        "outputId": "b964f757-872a-4402-a9c9-5431b4793b06"
      },
      "execution_count": null,
      "outputs": [
        {
          "output_type": "execute_result",
          "data": {
            "text/plain": [
              "Producto    Laptop\n",
              "Cantidad      3135\n",
              "Name: 0, dtype: object"
            ]
          },
          "metadata": {},
          "execution_count": 21
        }
      ]
    },
    {
      "cell_type": "code",
      "source": [
        "producto_menos_vendido = productos_vendidos.sort_values(by='Cantidad', ascending=False).iloc[-1]\n",
        "producto_menos_vendido"
      ],
      "metadata": {
        "colab": {
          "base_uri": "https://localhost:8080/"
        },
        "id": "nvh4NVHF4Hit",
        "outputId": "90ec97e1-ba23-4dfc-f9b8-96a01e940c32"
      },
      "execution_count": null,
      "outputs": [
        {
          "output_type": "execute_result",
          "data": {
            "text/plain": [
              "Producto    Tableta\n",
              "Cantidad       2949\n",
              "Name: 1, dtype: object"
            ]
          },
          "metadata": {},
          "execution_count": 22
        }
      ]
    },
    {
      "cell_type": "markdown",
      "source": [
        "Calcula el promedio de descuento otorgado en las ventas y la cantidad de ventas con descuento."
      ],
      "metadata": {
        "id": "10IAM8pn4Kim"
      }
    },
    {
      "cell_type": "code",
      "source": [
        "ventas_con_descuento = df[df['Descuento'] > 0]\n",
        "promedio_descuento = ventas_con_descuento['Descuento'].mean()\n",
        "cantidad_ventas_con_descuento = ventas_con_descuento.shape[0]\n",
        "print(\"La cantidad de ventas con descuento es:\", cantidad_ventas_con_descuento)\n",
        "print(\"El promedio de descuentos otorgados en las ventas es: \", promedio_descuento)"
      ],
      "metadata": {
        "colab": {
          "base_uri": "https://localhost:8080/"
        },
        "id": "gq2n2Qpm4PZ0",
        "outputId": "d30feee4-dca2-4221-d4c8-4085ad927a7a"
      },
      "execution_count": null,
      "outputs": [
        {
          "output_type": "stream",
          "name": "stdout",
          "text": [
            "La cantidad de ventas con descuento es: 1810\n",
            "El promedio de descuentos otorgados en las ventas es:  0.10197657393850659\n"
          ]
        }
      ]
    },
    {
      "cell_type": "markdown",
      "source": [
        "# 2. Analisis de Ubicaciones y Formas de pago"
      ],
      "metadata": {
        "id": "4dQCOkHLYO9W"
      }
    },
    {
      "cell_type": "markdown",
      "source": [
        "Agrupa las ventas por ubicación y calcula la cantidad total de ventas y el monto promedio de venta para cada ubicación"
      ],
      "metadata": {
        "id": "Y90Jhfwd4Vo5"
      }
    },
    {
      "cell_type": "code",
      "source": [
        "Agrupadas_ubicacion = df.groupby('Ubicación').agg(\n",
        "    Cantidad_Total_Ventas = ('Cantidad', 'sum'),\n",
        "    Monto_Promedio_Venta = ('Total', 'mean')\n",
        ").reset_index()\n",
        "print(Agrupadas_ubicacion)"
      ],
      "metadata": {
        "colab": {
          "base_uri": "https://localhost:8080/"
        },
        "id": "4_PkueOiXTWe",
        "outputId": "88dc7dcb-4afd-42bf-b94b-ef7f129d0a30"
      },
      "execution_count": null,
      "outputs": [
        {
          "output_type": "stream",
          "name": "stdout",
          "text": [
            "  Ubicación  Cantidad_Total_Ventas  Monto_Promedio_Venta\n",
            "0  En linea                   4390           2736.282110\n",
            "1     Local                   4652           2726.105544\n"
          ]
        }
      ]
    },
    {
      "cell_type": "markdown",
      "source": [
        "Agrupa las ventas por forma de pago y calcula la cantidad total de ventas y el monto promedio de venta para cada forma de pago"
      ],
      "metadata": {
        "id": "ZXas0VMV4YpM"
      }
    },
    {
      "cell_type": "code",
      "source": [
        "Agrupadas_forma_pago = df.groupby('Forma_Pago').agg(\n",
        "    Cantidad_Total_Ventas = ('Cantidad', 'sum'),\n",
        "    Monto_Promedio_Venta = ('Total', 'mean')\n",
        ").reset_index()\n",
        "print(Agrupadas_forma_pago)"
      ],
      "metadata": {
        "colab": {
          "base_uri": "https://localhost:8080/"
        },
        "id": "d21jLIhJYVH4",
        "outputId": "62a03ab1-00de-4e8d-ad0c-8a35aa99ce70"
      },
      "execution_count": null,
      "outputs": [
        {
          "output_type": "stream",
          "name": "stdout",
          "text": [
            "  Forma_Pago  Cantidad_Total_Ventas  Monto_Promedio_Venta\n",
            "0   Efectivo                   2962           2805.550167\n",
            "1    Tarjeta                   6080           2694.229373\n"
          ]
        }
      ]
    },
    {
      "cell_type": "markdown",
      "source": [
        "# 3. Análisis de vendedores"
      ],
      "metadata": {
        "id": "sRGjyEEw4e5T"
      }
    },
    {
      "cell_type": "markdown",
      "source": [
        "Encuentra el vendedor que realizó la mayor cantidad de ventas y el vendedor que generó el mayor monto total de ventas."
      ],
      "metadata": {
        "id": "pfsP3Ybn4hbp"
      }
    },
    {
      "cell_type": "code",
      "source": [
        "ventas_por_vendedor = df.groupby('Vendedor')[\"Cantidad\"].sum()\n",
        "print(ventas_por_vendedor)\n",
        "max_ventas = ventas_por_vendedor.max()\n",
        "vendedor_max_ventas = ventas_por_vendedor[ventas_por_vendedor == max_ventas].index[0]\n",
        "print(\"El vendedor con mayor cantidad de ventas es:\", vendedor_max_ventas)"
      ],
      "metadata": {
        "colab": {
          "base_uri": "https://localhost:8080/"
        },
        "id": "id-XgJKC4j99",
        "outputId": "b73bed75-b4db-444b-b04f-9f59db8915d7"
      },
      "execution_count": null,
      "outputs": [
        {
          "output_type": "stream",
          "name": "stdout",
          "text": [
            "Vendedor\n",
            "Carlos    2959\n",
            "Juan      3101\n",
            "Maria     2982\n",
            "Name: Cantidad, dtype: int64\n",
            "El vendedor con mayor cantidad de ventas es: Juan\n"
          ]
        }
      ]
    },
    {
      "cell_type": "code",
      "source": [
        "ventas_por_monto = df.groupby('Vendedor')[\"Total\"].sum()\n",
        "max_monto = ventas_por_monto.max()\n",
        "vendedor_max_monto = ventas_por_monto[ventas_por_monto == max_monto].index[0]\n",
        "print(ventas_por_monto)\n",
        "print()\n",
        "print()\n",
        "print(\"El vendedor que generó el mayor monto total de ventas es: \", vendedor_max_monto)"
      ],
      "metadata": {
        "colab": {
          "base_uri": "https://localhost:8080/"
        },
        "id": "GCj4qJyK4v1T",
        "outputId": "d2bf21e7-1035-444a-c074-9869e98ec497"
      },
      "execution_count": null,
      "outputs": [
        {
          "output_type": "stream",
          "name": "stdout",
          "text": [
            "Vendedor\n",
            "Carlos    1575248\n",
            "Juan      1734838\n",
            "Maria     1633039\n",
            "Name: Total, dtype: int64\n",
            "\n",
            "\n",
            "El vendedor que generó el mayor monto total de ventas es:  Juan\n"
          ]
        }
      ]
    },
    {
      "cell_type": "markdown",
      "source": [
        "Calcule la cantidad promedio de productos vendidos por vendedor"
      ],
      "metadata": {
        "id": "pZUWy7Em4yus"
      }
    },
    {
      "cell_type": "code",
      "source": [
        "promedio_productos_por_vendedor = ventas_por_vendedor.mean()\n",
        "\n",
        "print(\"Cantidad promedio de productos vendidos por vendedor:\", promedio_productos_por_vendedor)"
      ],
      "metadata": {
        "colab": {
          "base_uri": "https://localhost:8080/"
        },
        "id": "vyBFB00p41fk",
        "outputId": "b2983c89-6ef6-4551-be67-0925ac73bf0b"
      },
      "execution_count": null,
      "outputs": [
        {
          "output_type": "stream",
          "name": "stdout",
          "text": [
            "Cantidad promedio de productos vendidos por vendedor: 3014.0\n"
          ]
        }
      ]
    },
    {
      "cell_type": "markdown",
      "source": [
        "# 4. Analisis Temporal"
      ],
      "metadata": {
        "id": "eTkbLitoZUZA"
      }
    },
    {
      "cell_type": "markdown",
      "source": [
        "Agrega una columna llamada \"Mes\" que contenga el mes correspondiente de cada venta"
      ],
      "metadata": {
        "id": "TgDE9lHV45fv"
      }
    },
    {
      "cell_type": "code",
      "source": [
        "df['Fecha'] = pd.to_datetime(df['Fecha'])\n",
        "df['Mes'] = df['Fecha'].dt.month\n",
        "df"
      ],
      "metadata": {
        "colab": {
          "base_uri": "https://localhost:8080/",
          "height": 424
        },
        "id": "RYWJsDHzZaAL",
        "outputId": "0c1cdec1-7c5f-443e-e096-6387ee83c390"
      },
      "execution_count": null,
      "outputs": [
        {
          "output_type": "execute_result",
          "data": {
            "text/plain": [
              "      Unnamed: 0      Fecha  Producto  Cantidad  Precio_Unitario  Descuento  \\\n",
              "0              0 2022-01-01   Tableta         4              114   0.150000   \n",
              "1              1 2022-01-02    Laptop         3              835   0.101977   \n",
              "2              2 2022-01-03   Tableta         4              672   0.150000   \n",
              "3              3 2022-01-04   Tableta         7              221   0.101977   \n",
              "4              4 2022-01-05    Laptop         1              376   0.050000   \n",
              "...          ...        ...       ...       ...              ...        ...   \n",
              "1805        1805 2026-12-11  Telefono         6              878   0.050000   \n",
              "1806        1806 2026-12-12   Tableta         1              207   0.100000   \n",
              "1807        1807 2026-12-13  Telefono         2              943   0.050000   \n",
              "1808        1808 2026-12-14  Telefono         6              701   0.101977   \n",
              "1809        1809 2026-12-15  Telefono         2              816   0.100000   \n",
              "\n",
              "      Total Vendedor Ubicación Forma_Pago     Estado  Mes  \n",
              "0      4935   Carlos  En linea   Efectivo   Completo    1  \n",
              "1      3144     Juan     Local    Tarjeta  Cancelado    1  \n",
              "2      1545    Maria  En linea    Tarjeta  Pendiente    1  \n",
              "3      4056    Maria  En linea    Tarjeta  Cancelado    1  \n",
              "4      3181   Carlos     Local   Efectivo  Pendiente    1  \n",
              "...     ...      ...       ...        ...        ...  ...  \n",
              "1805   1420   Carlos  En linea    Tarjeta   Completo   12  \n",
              "1806   1188    Maria  En linea    Tarjeta  Cancelado   12  \n",
              "1807   4772    Maria     Local   Efectivo  Pendiente   12  \n",
              "1808   1969     Juan     Local    Tarjeta   Completo   12  \n",
              "1809   4759   Carlos     Local   Efectivo  Cancelado   12  \n",
              "\n",
              "[1810 rows x 12 columns]"
            ],
            "text/html": [
              "\n",
              "  <div id=\"df-90bed21f-5b62-4cd8-99d4-0e70fc5b5a38\" class=\"colab-df-container\">\n",
              "    <div>\n",
              "<style scoped>\n",
              "    .dataframe tbody tr th:only-of-type {\n",
              "        vertical-align: middle;\n",
              "    }\n",
              "\n",
              "    .dataframe tbody tr th {\n",
              "        vertical-align: top;\n",
              "    }\n",
              "\n",
              "    .dataframe thead th {\n",
              "        text-align: right;\n",
              "    }\n",
              "</style>\n",
              "<table border=\"1\" class=\"dataframe\">\n",
              "  <thead>\n",
              "    <tr style=\"text-align: right;\">\n",
              "      <th></th>\n",
              "      <th>Unnamed: 0</th>\n",
              "      <th>Fecha</th>\n",
              "      <th>Producto</th>\n",
              "      <th>Cantidad</th>\n",
              "      <th>Precio_Unitario</th>\n",
              "      <th>Descuento</th>\n",
              "      <th>Total</th>\n",
              "      <th>Vendedor</th>\n",
              "      <th>Ubicación</th>\n",
              "      <th>Forma_Pago</th>\n",
              "      <th>Estado</th>\n",
              "      <th>Mes</th>\n",
              "    </tr>\n",
              "  </thead>\n",
              "  <tbody>\n",
              "    <tr>\n",
              "      <th>0</th>\n",
              "      <td>0</td>\n",
              "      <td>2022-01-01</td>\n",
              "      <td>Tableta</td>\n",
              "      <td>4</td>\n",
              "      <td>114</td>\n",
              "      <td>0.150000</td>\n",
              "      <td>4935</td>\n",
              "      <td>Carlos</td>\n",
              "      <td>En linea</td>\n",
              "      <td>Efectivo</td>\n",
              "      <td>Completo</td>\n",
              "      <td>1</td>\n",
              "    </tr>\n",
              "    <tr>\n",
              "      <th>1</th>\n",
              "      <td>1</td>\n",
              "      <td>2022-01-02</td>\n",
              "      <td>Laptop</td>\n",
              "      <td>3</td>\n",
              "      <td>835</td>\n",
              "      <td>0.101977</td>\n",
              "      <td>3144</td>\n",
              "      <td>Juan</td>\n",
              "      <td>Local</td>\n",
              "      <td>Tarjeta</td>\n",
              "      <td>Cancelado</td>\n",
              "      <td>1</td>\n",
              "    </tr>\n",
              "    <tr>\n",
              "      <th>2</th>\n",
              "      <td>2</td>\n",
              "      <td>2022-01-03</td>\n",
              "      <td>Tableta</td>\n",
              "      <td>4</td>\n",
              "      <td>672</td>\n",
              "      <td>0.150000</td>\n",
              "      <td>1545</td>\n",
              "      <td>Maria</td>\n",
              "      <td>En linea</td>\n",
              "      <td>Tarjeta</td>\n",
              "      <td>Pendiente</td>\n",
              "      <td>1</td>\n",
              "    </tr>\n",
              "    <tr>\n",
              "      <th>3</th>\n",
              "      <td>3</td>\n",
              "      <td>2022-01-04</td>\n",
              "      <td>Tableta</td>\n",
              "      <td>7</td>\n",
              "      <td>221</td>\n",
              "      <td>0.101977</td>\n",
              "      <td>4056</td>\n",
              "      <td>Maria</td>\n",
              "      <td>En linea</td>\n",
              "      <td>Tarjeta</td>\n",
              "      <td>Cancelado</td>\n",
              "      <td>1</td>\n",
              "    </tr>\n",
              "    <tr>\n",
              "      <th>4</th>\n",
              "      <td>4</td>\n",
              "      <td>2022-01-05</td>\n",
              "      <td>Laptop</td>\n",
              "      <td>1</td>\n",
              "      <td>376</td>\n",
              "      <td>0.050000</td>\n",
              "      <td>3181</td>\n",
              "      <td>Carlos</td>\n",
              "      <td>Local</td>\n",
              "      <td>Efectivo</td>\n",
              "      <td>Pendiente</td>\n",
              "      <td>1</td>\n",
              "    </tr>\n",
              "    <tr>\n",
              "      <th>...</th>\n",
              "      <td>...</td>\n",
              "      <td>...</td>\n",
              "      <td>...</td>\n",
              "      <td>...</td>\n",
              "      <td>...</td>\n",
              "      <td>...</td>\n",
              "      <td>...</td>\n",
              "      <td>...</td>\n",
              "      <td>...</td>\n",
              "      <td>...</td>\n",
              "      <td>...</td>\n",
              "      <td>...</td>\n",
              "    </tr>\n",
              "    <tr>\n",
              "      <th>1805</th>\n",
              "      <td>1805</td>\n",
              "      <td>2026-12-11</td>\n",
              "      <td>Telefono</td>\n",
              "      <td>6</td>\n",
              "      <td>878</td>\n",
              "      <td>0.050000</td>\n",
              "      <td>1420</td>\n",
              "      <td>Carlos</td>\n",
              "      <td>En linea</td>\n",
              "      <td>Tarjeta</td>\n",
              "      <td>Completo</td>\n",
              "      <td>12</td>\n",
              "    </tr>\n",
              "    <tr>\n",
              "      <th>1806</th>\n",
              "      <td>1806</td>\n",
              "      <td>2026-12-12</td>\n",
              "      <td>Tableta</td>\n",
              "      <td>1</td>\n",
              "      <td>207</td>\n",
              "      <td>0.100000</td>\n",
              "      <td>1188</td>\n",
              "      <td>Maria</td>\n",
              "      <td>En linea</td>\n",
              "      <td>Tarjeta</td>\n",
              "      <td>Cancelado</td>\n",
              "      <td>12</td>\n",
              "    </tr>\n",
              "    <tr>\n",
              "      <th>1807</th>\n",
              "      <td>1807</td>\n",
              "      <td>2026-12-13</td>\n",
              "      <td>Telefono</td>\n",
              "      <td>2</td>\n",
              "      <td>943</td>\n",
              "      <td>0.050000</td>\n",
              "      <td>4772</td>\n",
              "      <td>Maria</td>\n",
              "      <td>Local</td>\n",
              "      <td>Efectivo</td>\n",
              "      <td>Pendiente</td>\n",
              "      <td>12</td>\n",
              "    </tr>\n",
              "    <tr>\n",
              "      <th>1808</th>\n",
              "      <td>1808</td>\n",
              "      <td>2026-12-14</td>\n",
              "      <td>Telefono</td>\n",
              "      <td>6</td>\n",
              "      <td>701</td>\n",
              "      <td>0.101977</td>\n",
              "      <td>1969</td>\n",
              "      <td>Juan</td>\n",
              "      <td>Local</td>\n",
              "      <td>Tarjeta</td>\n",
              "      <td>Completo</td>\n",
              "      <td>12</td>\n",
              "    </tr>\n",
              "    <tr>\n",
              "      <th>1809</th>\n",
              "      <td>1809</td>\n",
              "      <td>2026-12-15</td>\n",
              "      <td>Telefono</td>\n",
              "      <td>2</td>\n",
              "      <td>816</td>\n",
              "      <td>0.100000</td>\n",
              "      <td>4759</td>\n",
              "      <td>Carlos</td>\n",
              "      <td>Local</td>\n",
              "      <td>Efectivo</td>\n",
              "      <td>Cancelado</td>\n",
              "      <td>12</td>\n",
              "    </tr>\n",
              "  </tbody>\n",
              "</table>\n",
              "<p>1810 rows × 12 columns</p>\n",
              "</div>\n",
              "    <div class=\"colab-df-buttons\">\n",
              "\n",
              "  <div class=\"colab-df-container\">\n",
              "    <button class=\"colab-df-convert\" onclick=\"convertToInteractive('df-90bed21f-5b62-4cd8-99d4-0e70fc5b5a38')\"\n",
              "            title=\"Convert this dataframe to an interactive table.\"\n",
              "            style=\"display:none;\">\n",
              "\n",
              "  <svg xmlns=\"http://www.w3.org/2000/svg\" height=\"24px\" viewBox=\"0 -960 960 960\">\n",
              "    <path d=\"M120-120v-720h720v720H120Zm60-500h600v-160H180v160Zm220 220h160v-160H400v160Zm0 220h160v-160H400v160ZM180-400h160v-160H180v160Zm440 0h160v-160H620v160ZM180-180h160v-160H180v160Zm440 0h160v-160H620v160Z\"/>\n",
              "  </svg>\n",
              "    </button>\n",
              "\n",
              "  <style>\n",
              "    .colab-df-container {\n",
              "      display:flex;\n",
              "      gap: 12px;\n",
              "    }\n",
              "\n",
              "    .colab-df-convert {\n",
              "      background-color: #E8F0FE;\n",
              "      border: none;\n",
              "      border-radius: 50%;\n",
              "      cursor: pointer;\n",
              "      display: none;\n",
              "      fill: #1967D2;\n",
              "      height: 32px;\n",
              "      padding: 0 0 0 0;\n",
              "      width: 32px;\n",
              "    }\n",
              "\n",
              "    .colab-df-convert:hover {\n",
              "      background-color: #E2EBFA;\n",
              "      box-shadow: 0px 1px 2px rgba(60, 64, 67, 0.3), 0px 1px 3px 1px rgba(60, 64, 67, 0.15);\n",
              "      fill: #174EA6;\n",
              "    }\n",
              "\n",
              "    .colab-df-buttons div {\n",
              "      margin-bottom: 4px;\n",
              "    }\n",
              "\n",
              "    [theme=dark] .colab-df-convert {\n",
              "      background-color: #3B4455;\n",
              "      fill: #D2E3FC;\n",
              "    }\n",
              "\n",
              "    [theme=dark] .colab-df-convert:hover {\n",
              "      background-color: #434B5C;\n",
              "      box-shadow: 0px 1px 3px 1px rgba(0, 0, 0, 0.15);\n",
              "      filter: drop-shadow(0px 1px 2px rgba(0, 0, 0, 0.3));\n",
              "      fill: #FFFFFF;\n",
              "    }\n",
              "  </style>\n",
              "\n",
              "    <script>\n",
              "      const buttonEl =\n",
              "        document.querySelector('#df-90bed21f-5b62-4cd8-99d4-0e70fc5b5a38 button.colab-df-convert');\n",
              "      buttonEl.style.display =\n",
              "        google.colab.kernel.accessAllowed ? 'block' : 'none';\n",
              "\n",
              "      async function convertToInteractive(key) {\n",
              "        const element = document.querySelector('#df-90bed21f-5b62-4cd8-99d4-0e70fc5b5a38');\n",
              "        const dataTable =\n",
              "          await google.colab.kernel.invokeFunction('convertToInteractive',\n",
              "                                                    [key], {});\n",
              "        if (!dataTable) return;\n",
              "\n",
              "        const docLinkHtml = 'Like what you see? Visit the ' +\n",
              "          '<a target=\"_blank\" href=https://colab.research.google.com/notebooks/data_table.ipynb>data table notebook</a>'\n",
              "          + ' to learn more about interactive tables.';\n",
              "        element.innerHTML = '';\n",
              "        dataTable['output_type'] = 'display_data';\n",
              "        await google.colab.output.renderOutput(dataTable, element);\n",
              "        const docLink = document.createElement('div');\n",
              "        docLink.innerHTML = docLinkHtml;\n",
              "        element.appendChild(docLink);\n",
              "      }\n",
              "    </script>\n",
              "  </div>\n",
              "\n",
              "\n",
              "<div id=\"df-16f0c51a-80f4-44e5-a7ac-752d05dd392d\">\n",
              "  <button class=\"colab-df-quickchart\" onclick=\"quickchart('df-16f0c51a-80f4-44e5-a7ac-752d05dd392d')\"\n",
              "            title=\"Suggest charts.\"\n",
              "            style=\"display:none;\">\n",
              "\n",
              "<svg xmlns=\"http://www.w3.org/2000/svg\" height=\"24px\"viewBox=\"0 0 24 24\"\n",
              "     width=\"24px\">\n",
              "    <g>\n",
              "        <path d=\"M19 3H5c-1.1 0-2 .9-2 2v14c0 1.1.9 2 2 2h14c1.1 0 2-.9 2-2V5c0-1.1-.9-2-2-2zM9 17H7v-7h2v7zm4 0h-2V7h2v10zm4 0h-2v-4h2v4z\"/>\n",
              "    </g>\n",
              "</svg>\n",
              "  </button>\n",
              "\n",
              "<style>\n",
              "  .colab-df-quickchart {\n",
              "    background-color: #E8F0FE;\n",
              "    border: none;\n",
              "    border-radius: 50%;\n",
              "    cursor: pointer;\n",
              "    display: none;\n",
              "    fill: #1967D2;\n",
              "    height: 32px;\n",
              "    padding: 0 0 0 0;\n",
              "    width: 32px;\n",
              "  }\n",
              "\n",
              "  .colab-df-quickchart:hover {\n",
              "    background-color: #E2EBFA;\n",
              "    box-shadow: 0px 1px 2px rgba(60, 64, 67, 0.3), 0px 1px 3px 1px rgba(60, 64, 67, 0.15);\n",
              "    fill: #174EA6;\n",
              "  }\n",
              "\n",
              "  [theme=dark] .colab-df-quickchart {\n",
              "    background-color: #3B4455;\n",
              "    fill: #D2E3FC;\n",
              "  }\n",
              "\n",
              "  [theme=dark] .colab-df-quickchart:hover {\n",
              "    background-color: #434B5C;\n",
              "    box-shadow: 0px 1px 3px 1px rgba(0, 0, 0, 0.15);\n",
              "    filter: drop-shadow(0px 1px 2px rgba(0, 0, 0, 0.3));\n",
              "    fill: #FFFFFF;\n",
              "  }\n",
              "</style>\n",
              "\n",
              "  <script>\n",
              "    async function quickchart(key) {\n",
              "      const charts = await google.colab.kernel.invokeFunction(\n",
              "          'suggestCharts', [key], {});\n",
              "    }\n",
              "    (() => {\n",
              "      let quickchartButtonEl =\n",
              "        document.querySelector('#df-16f0c51a-80f4-44e5-a7ac-752d05dd392d button');\n",
              "      quickchartButtonEl.style.display =\n",
              "        google.colab.kernel.accessAllowed ? 'block' : 'none';\n",
              "    })();\n",
              "  </script>\n",
              "</div>\n",
              "    </div>\n",
              "  </div>\n"
            ]
          },
          "metadata": {},
          "execution_count": 18
        }
      ]
    },
    {
      "cell_type": "markdown",
      "source": [
        "Agrupa las ventas por mes y calcula el total de ventas y el monto promedio de venta para cada mes"
      ],
      "metadata": {
        "id": "Wxm0VB7J4-WL"
      }
    },
    {
      "cell_type": "code",
      "source": [
        "Agrupadas_mes = df.groupby('Mes').agg(\n",
        "    Total_venta = ('Total', 'sum'),\n",
        "    Monto_Promedio_Venta = ('Total', 'mean')\n",
        ").reset_index()\n",
        "print(Agrupadas_mes)"
      ],
      "metadata": {
        "colab": {
          "base_uri": "https://localhost:8080/"
        },
        "id": "Sggw836iaj_o",
        "outputId": "85eeec56-f7af-43a8-a1c3-a346171e5542"
      },
      "execution_count": null,
      "outputs": [
        {
          "output_type": "stream",
          "name": "stdout",
          "text": [
            "    Mes  Total_venta  Monto_Promedio_Venta\n",
            "0     1       405962           2619.109677\n",
            "1     2       365523           2592.361702\n",
            "2     3       433779           2798.574194\n",
            "3     4       418074           2787.160000\n",
            "4     5       423873           2734.664516\n",
            "5     6       398593           2657.286667\n",
            "6     7       459810           2966.516129\n",
            "7     8       428810           2766.516129\n",
            "8     9       372490           2483.266667\n",
            "9    10       459160           2962.322581\n",
            "10   11       412946           2752.973333\n",
            "11   12       364105           2619.460432\n"
          ]
        }
      ]
    },
    {
      "cell_type": "markdown",
      "source": [
        "# 5. Tipo de cliente"
      ],
      "metadata": {
        "id": "SB9gyyxy5jMz"
      }
    },
    {
      "cell_type": "markdown",
      "source": [
        "Utiliza  la  funcion  np.where  de  NumPy  para  crear  una  nueva  columna  llamada  ”Tipo-Cliente”. Esta columna debe contener ”Regular”para ventas con descuento menor o igual a0.1 y ”Especial”para ventas con descuento mayor a 0.1."
      ],
      "metadata": {
        "id": "sC0EzO8z5le2"
      }
    },
    {
      "cell_type": "code",
      "source": [
        "df['Tipo-Cliente'] = np.where(df['Descuento'] <= 0.1, 'Regular', 'Especial')\n",
        "\n",
        "print(df.head())"
      ],
      "metadata": {
        "colab": {
          "base_uri": "https://localhost:8080/"
        },
        "id": "7yKeN3e55oOZ",
        "outputId": "820799c4-949d-41f6-fe45-7823be4da8df"
      },
      "execution_count": null,
      "outputs": [
        {
          "output_type": "stream",
          "name": "stdout",
          "text": [
            "   Unnamed: 0      Fecha Producto  Cantidad  Precio_Unitario  Descuento  \\\n",
            "0           0 2022-01-01  Tableta         4              114   0.150000   \n",
            "1           1 2022-01-02   Laptop         3              835   0.101977   \n",
            "2           2 2022-01-03  Tableta         4              672   0.150000   \n",
            "3           3 2022-01-04  Tableta         7              221   0.101977   \n",
            "4           4 2022-01-05   Laptop         1              376   0.050000   \n",
            "\n",
            "   Total Vendedor Ubicación Forma_Pago     Estado  Mes Tipo-Cliente  \n",
            "0   4935   Carlos  En linea   Efectivo   Completo    1     Especial  \n",
            "1   3144     Juan     Local    Tarjeta  Cancelado    1     Especial  \n",
            "2   1545    Maria  En linea    Tarjeta  Pendiente    1     Especial  \n",
            "3   4056    Maria  En linea    Tarjeta  Cancelado    1     Especial  \n",
            "4   3181   Carlos     Local   Efectivo  Pendiente    1      Regular  \n"
          ]
        }
      ]
    },
    {
      "cell_type": "markdown",
      "source": [
        "Calcula la cantidad total de ventas de ”Regular”y ”Especial”."
      ],
      "metadata": {
        "id": "AAeEucnK5rnz"
      }
    },
    {
      "cell_type": "code",
      "source": [
        "ventas_por_tipo_cliente = df.groupby('Tipo-Cliente')['Total'].sum()\n",
        "print(\"Cantidad total de ventas 'Regular':\", ventas_por_tipo_cliente['Regular'])\n",
        "print(\"Cantidad total de ventas 'Especial':\", ventas_por_tipo_cliente['Especial'])"
      ],
      "metadata": {
        "colab": {
          "base_uri": "https://localhost:8080/"
        },
        "id": "YXQS0X0L5uig",
        "outputId": "37237f4e-013a-4243-b538-4d996e7af817"
      },
      "execution_count": null,
      "outputs": [
        {
          "output_type": "stream",
          "name": "stdout",
          "text": [
            "Cantidad total de ventas 'Regular': 2488714\n",
            "Cantidad total de ventas 'Especial': 2454411\n"
          ]
        }
      ]
    },
    {
      "cell_type": "markdown",
      "source": [
        "Calcula el monto promedio de venta para cada tipo de cliente."
      ],
      "metadata": {
        "id": "H9ol75b35xcz"
      }
    },
    {
      "cell_type": "code",
      "source": [
        "monto_promedio_por_tipo_cliente = df.groupby('Tipo-Cliente')['Total'].mean()\n",
        "\n",
        "print(\"Monto promedio de venta para 'Regular':\", monto_promedio_por_tipo_cliente['Regular'])\n",
        "print(\"Monto promedio de venta para 'Especial':\", monto_promedio_por_tipo_cliente['Especial'])"
      ],
      "metadata": {
        "colab": {
          "base_uri": "https://localhost:8080/"
        },
        "id": "u9ZbLgvL51de",
        "outputId": "532a8b39-cf5f-4a2e-dd82-ae66264d202e"
      },
      "execution_count": null,
      "outputs": [
        {
          "output_type": "stream",
          "name": "stdout",
          "text": [
            "Monto promedio de venta para 'Regular': 2821.671201814059\n",
            "Monto promedio de venta para 'Especial': 2644.8394396551726\n"
          ]
        }
      ]
    },
    {
      "cell_type": "markdown",
      "source": [
        "Calcula el porcentaje de ventas ”Especiales”con respecto al total de ventas"
      ],
      "metadata": {
        "id": "8D7rLQOd59ud"
      }
    },
    {
      "cell_type": "code",
      "source": [
        "total_ventas = df['Total'].sum()\n",
        "ventas_especiales = df[df['Tipo-Cliente'] == 'Especial']\n",
        "total_ventas_especiales = ventas_especiales['Total'].sum()\n",
        "porcentaje_ventas_especiales = (total_ventas_especiales / total_ventas) * 100\n",
        "\n",
        "print(\"Porcentaje de ventas 'Especiales' con respecto al total de ventas:\", porcentaje_ventas_especiales, \"%\")"
      ],
      "metadata": {
        "colab": {
          "base_uri": "https://localhost:8080/"
        },
        "id": "y1dGEBWj5-j6",
        "outputId": "27ff8916-3f11-427c-d42f-8fdb311ca9c5"
      },
      "execution_count": null,
      "outputs": [
        {
          "output_type": "stream",
          "name": "stdout",
          "text": [
            "Porcentaje de ventas 'Especiales' con respecto al total de ventas: 49.653023138196986 %\n"
          ]
        }
      ]
    },
    {
      "cell_type": "markdown",
      "source": [
        "# 6. Resultados"
      ],
      "metadata": {
        "id": "KGIdHj8WbcNr"
      }
    },
    {
      "cell_type": "code",
      "source": [
        "import seaborn as sns\n",
        "import matplotlib\n",
        "import matplotlib.pyplot as plt\n",
        "%matplotlib inline"
      ],
      "metadata": {
        "id": "z5fQPIUcbeb3"
      },
      "execution_count": null,
      "outputs": []
    },
    {
      "cell_type": "markdown",
      "source": [
        "## Resultados Análisis de ventas"
      ],
      "metadata": {
        "id": "qhuc-iq26Ea4"
      }
    },
    {
      "cell_type": "code",
      "source": [
        "plt.figure(figsize=(10, 6))\n",
        "plt.bar(ventas_por_producto['Producto'], ventas_por_producto['Total'], color='green')\n",
        "plt.xlabel('Producto')\n",
        "plt.ylabel('Total de Ventas')\n",
        "plt.title('Total de Ventas por Producto')\n",
        "plt.xticks(rotation=90)\n",
        "plt.show()"
      ],
      "metadata": {
        "colab": {
          "base_uri": "https://localhost:8080/",
          "height": 608
        },
        "id": "bXF4-LWD6Ltj",
        "outputId": "031ff5ba-4c24-4cf2-ca66-dc4fb36df119"
      },
      "execution_count": null,
      "outputs": [
        {
          "output_type": "display_data",
          "data": {
            "text/plain": [
              "<Figure size 1000x600 with 1 Axes>"
            ],
            "image/png": "[encoded data removed]"
          },
          "metadata": {}
        }
      ]
    },
    {
      "cell_type": "markdown",
      "source": [
        "## Resultados Análisis de Ubicaciones y formas de pago"
      ],
      "metadata": {
        "id": "yjqZu3vf7fv3"
      }
    },
    {
      "cell_type": "code",
      "source": [
        "plt.figure(figsize=(10, 6))\n",
        "plt.bar(Agrupadas_ubicacion['Ubicación'], Agrupadas_ubicacion['Cantidad_Total_Ventas'], label='Cantidad Total de Ventas')\n",
        "plt.plot(Agrupadas_ubicacion['Ubicación'], Agrupadas_ubicacion['Monto_Promedio_Venta'], color='red', marker='o', label='Monto Promedio de Venta')\n",
        "plt.xlabel('Ubicación')\n",
        "plt.ylabel('Valor')\n",
        "plt.title('Cantidad Total de Ventas y Monto Promedio de Venta por Ubicación')\n",
        "plt.legend()\n",
        "plt.xticks(rotation=45)\n",
        "plt.tight_layout()\n",
        "\n",
        "plt.show()"
      ],
      "metadata": {
        "colab": {
          "base_uri": "https://localhost:8080/",
          "height": 607
        },
        "id": "4O-65zLM6Xuj",
        "outputId": "2713b45f-c1c6-43fb-ea07-89624a2dd2dd"
      },
      "execution_count": null,
      "outputs": [
        {
          "output_type": "display_data",
          "data": {
            "text/plain": [
              "<Figure size 1000x600 with 1 Axes>"
            ],
            "image/png": "[encoded data removed]"
          },
          "metadata": {}
        }
      ]
    },
    {
      "cell_type": "code",
      "source": [
        "plt.figure(figsize=(10, 6))\n",
        "plt.bar(Agrupadas_forma_pago['Forma_Pago'], Agrupadas_forma_pago['Cantidad_Total_Ventas'], label='Cantidad Total de Ventas')\n",
        "plt.plot(Agrupadas_forma_pago['Forma_Pago'], Agrupadas_forma_pago['Monto_Promedio_Venta'], color='red', marker='o', label='Monto Promedio de Venta')\n",
        "plt.xlabel('Forma de Pago')\n",
        "plt.ylabel('Valor')\n",
        "plt.title('Cantidad Total de Ventas y Monto Promedio de Venta por Forma de Pago')\n",
        "plt.legend()\n",
        "plt.xticks(rotation=45)\n",
        "plt.tight_layout()\n",
        "\n",
        "plt.show()"
      ],
      "metadata": {
        "colab": {
          "base_uri": "https://localhost:8080/",
          "height": 607
        },
        "id": "hNnF2kD8AtiM",
        "outputId": "cb7510c4-1326-49f1-c737-4f559c5a957e"
      },
      "execution_count": null,
      "outputs": [
        {
          "output_type": "display_data",
          "data": {
            "text/plain": [
              "<Figure size 1000x600 with 1 Axes>"
            ],
            "image/png": "[encoded data removed]"
          },
          "metadata": {}
        }
      ]
    },
    {
      "cell_type": "markdown",
      "source": [
        "## Resultados Análisis de vendedores"
      ],
      "metadata": {
        "id": "q4bLhZCgA7o1"
      }
    },
    {
      "cell_type": "code",
      "source": [
        "plt.figure(figsize=(10, 6))\n",
        "ventas_por_vendedor.plot(kind='bar', color='purple')\n",
        "plt.xlabel('Vendedor')\n",
        "plt.ylabel('Ventas Totales')\n",
        "plt.title('Ventas por Vendedor')\n",
        "plt.xticks(rotation=45)\n",
        "plt.show()"
      ],
      "metadata": {
        "colab": {
          "base_uri": "https://localhost:8080/",
          "height": 591
        },
        "id": "2avK0kyABBBz",
        "outputId": "de4cf5e5-fe5e-467b-bb63-f9ca0d1a4a0d"
      },
      "execution_count": null,
      "outputs": [
        {
          "output_type": "display_data",
          "data": {
            "text/plain": [
              "<Figure size 1000x600 with 1 Axes>"
            ],
            "image/png": "[encoded data removed]"
          },
          "metadata": {}
        }
      ]
    },
    {
      "cell_type": "code",
      "source": [
        "plt.figure(figsize=(10, 6))\n",
        "ventas_por_monto.plot(kind='bar', color='orange')\n",
        "plt.xlabel('Vendedor')\n",
        "plt.ylabel('Monto Mayor de Ventas')\n",
        "plt.title('Mayor Monto de Ventas por Vendedor')\n",
        "plt.xticks(rotation=45)\n",
        "plt.show()"
      ],
      "metadata": {
        "colab": {
          "base_uri": "https://localhost:8080/",
          "height": 591
        },
        "id": "xgKZbAmhBGmW",
        "outputId": "28824518-b31b-4afc-8af3-0b137be0def0"
      },
      "execution_count": null,
      "outputs": [
        {
          "output_type": "display_data",
          "data": {
            "text/plain": [
              "<Figure size 1000x600 with 1 Axes>"
            ],
            "image/png": "[encoded data removed]"
          },
          "metadata": {}
        }
      ]
    },
    {
      "cell_type": "markdown",
      "source": [
        "## Resultado Análisis temporal"
      ],
      "metadata": {
        "id": "-ftUWkJ0BXeY"
      }
    },
    {
      "cell_type": "code",
      "source": [
        "plt.figure(figsize=(10, 6))\n",
        "Agrupadas_mes.plot(x='Mes', y='Total_venta', kind='bar', color='green', legend=None)\n",
        "plt.xlabel('Mes')\n",
        "plt.ylabel('Total de Ventas')\n",
        "plt.title('Total de Ventas por Mes')\n",
        "plt.xticks(rotation=45)\n",
        "plt.tight_layout()\n",
        "\n",
        "plt.show()"
      ],
      "metadata": {
        "colab": {
          "base_uri": "https://localhost:8080/",
          "height": 504
        },
        "id": "ikIQPfwKBe14",
        "outputId": "0cdea12d-c5b9-4437-9d84-d680dd42b456"
      },
      "execution_count": null,
      "outputs": [
        {
          "output_type": "display_data",
          "data": {
            "text/plain": [
              "<Figure size 1000x600 with 0 Axes>"
            ]
          },
          "metadata": {}
        },
        {
          "output_type": "display_data",
          "data": {
            "text/plain": [
              "<Figure size 640x480 with 1 Axes>"
            ],
            "image/png": "[encoded data removed]"
          },
          "metadata": {}
        }
      ]
    },
    {
      "cell_type": "markdown",
      "source": [
        "## Resultados Tipo de cliente"
      ],
      "metadata": {
        "id": "uA-gu7diB3Xm"
      }
    },
    {
      "cell_type": "code",
      "source": [
        "plt.figure(figsize=(8, 6))\n",
        "ventas_por_tipo_cliente.plot(kind='bar', color=['blue', 'green'])\n",
        "plt.xlabel('Tipo de Cliente')\n",
        "plt.ylabel('Total de Ventas')\n",
        "plt.title('Total de Ventas por Tipo de Cliente')\n",
        "plt.xticks(rotation=0)\n",
        "plt.tight_layout()\n",
        "\n",
        "plt.show()"
      ],
      "metadata": {
        "colab": {
          "base_uri": "https://localhost:8080/",
          "height": 607
        },
        "id": "SsYe4OCNCBnk",
        "outputId": "5e4a6487-73b1-464f-bce5-be8539db70ea"
      },
      "execution_count": null,
      "outputs": [
        {
          "output_type": "display_data",
          "data": {
            "text/plain": [
              "<Figure size 800x600 with 1 Axes>"
            ],
            "image/png": "[encoded data removed]"
          },
          "metadata": {}
        }
      ]
    },
    {
      "cell_type": "code",
      "source": [
        "plt.figure(figsize=(8, 6))\n",
        "monto_promedio_por_tipo_cliente.plot(kind='bar', color=['purple', 'orange'])\n",
        "plt.xlabel('Tipo de Cliente')\n",
        "plt.ylabel('Monto Promedio de Venta')\n",
        "plt.title('Monto Promedio de Venta por Tipo de Cliente')\n",
        "plt.xticks(rotation=0)\n",
        "plt.tight_layout()\n",
        "\n",
        "plt.show()"
      ],
      "metadata": {
        "colab": {
          "base_uri": "https://localhost:8080/",
          "height": 607
        },
        "id": "dQHkNuqcCNx7",
        "outputId": "ecf51c62-55a5-49bf-e7d3-bdf809638464"
      },
      "execution_count": null,
      "outputs": [
        {
          "output_type": "display_data",
          "data": {
            "text/plain": [
              "<Figure size 800x600 with 1 Axes>"
            ],
            "image/png": "[encoded data removed]"
          },
          "metadata": {}
        }
      ]
    },
    {
      "cell_type": "code",
      "source": [
        "labels = ['Ventas Regulares', 'Ventas Especiales']\n",
        "sizes = [100 - porcentaje_ventas_especiales, porcentaje_ventas_especiales]\n",
        "colors = ['blue', 'orange']\n",
        "plt.pie(sizes, labels=labels, colors=colors, autopct='%1.1f%%', startangle=140)\n",
        "plt.title('Porcentaje de Ventas Especiales con respecto al Total de Ventas')\n",
        "plt.axis('equal')\n",
        "\n",
        "plt.show()"
      ],
      "metadata": {
        "colab": {
          "base_uri": "https://localhost:8080/",
          "height": 428
        },
        "id": "I68TqO7tCq8t",
        "outputId": "85b83104-611d-4164-f0c4-aa25d3a2c257"
      },
      "execution_count": null,
      "outputs": [
        {
          "output_type": "display_data",
          "data": {
            "text/plain": [
              "<Figure size 640x480 with 1 Axes>"
            ],
            "image/png": "[encoded data removed]"
          },
          "metadata": {}
        }
      ]
    }
  ]
}